{
 "cells": [
  {
   "cell_type": "code",
   "execution_count": 127,
   "metadata": {},
   "outputs": [],
   "source": [
    "import requests\n",
    "from bs4 import BeautifulSoup\n",
    "import json\n",
    "import re"
   ]
  },
  {
   "cell_type": "markdown",
   "metadata": {},
   "source": [
    "Lấy dữ liệu tại trang mytour.vn\n",
    "\n",
    "Chọn địa điểm là Đà Lạt\n",
    "\n",
    "Chọn những khách sạn có rating >= 7.5, số người đánh giá >= 10 người\n",
    "\n",
    "Thời gian checkin, checkout chênh lệnh một ngày"
   ]
  },
  {
   "cell_type": "code",
   "execution_count": 128,
   "metadata": {},
   "outputs": [],
   "source": [
    "url = 'https://mytour.vn/d352/khach-san-tai-da-lat.html?page={}'\n",
    "min_rate = 7.5\n",
    "min_rate_number = 10"
   ]
  },
  {
   "cell_type": "markdown",
   "metadata": {},
   "source": [
    "Duyệt hết danh sách để lấy sub_url của những khách sạn\n",
    "\n",
    "Lọc ra những khách sạn có đủ tiêu chuẩn, lưu vào danh sách"
   ]
  },
  {
   "cell_type": "code",
   "execution_count": 131,
   "metadata": {},
   "outputs": [
    {
     "data": {
      "text/plain": [
       "45"
      ]
     },
     "execution_count": 131,
     "metadata": {},
     "output_type": "execute_result"
    }
   ],
   "source": [
    "f = open('list_hotel.csv', 'w', encoding='utf-8')\n",
    "f.write('id,name,url,rating,rate_number,star,lat,long\\n')"
   ]
  },
  {
   "cell_type": "code",
   "execution_count": 132,
   "metadata": {},
   "outputs": [
    {
     "name": "stdout",
     "output_type": "stream",
     "text": [
      "page 1 found 3 record(s)\n",
      "page 2 found 10 record(s)\n",
      "page 3 found 11 record(s)\n",
      "page 4 found 7 record(s)\n",
      "page 5 found 5 record(s)\n",
      "page 6 found 9 record(s)\n",
      "page 7 found 4 record(s)\n",
      "page 8 found 4 record(s)\n",
      "page 9 found 1 record(s)\n",
      "page 10 found 0 record(s)\n",
      "page 11 found 8 record(s)\n",
      "page 12 found 5 record(s)\n",
      "page 13 found 4 record(s)\n",
      "page 14 found 2 record(s)\n",
      "page 15 found 5 record(s)\n",
      "page 16 found 7 record(s)\n",
      "page 17 found 5 record(s)\n",
      "page 18 found 8 record(s)\n",
      "page 19 found 8 record(s)\n",
      "page 20 found 4 record(s)\n",
      "page 21 found 7 record(s)\n",
      "page 22 found 11 record(s)\n",
      "page 23 found 5 record(s)\n",
      "page 24 found 9 record(s)\n",
      "page 25 found 6 record(s)\n",
      "page 26 found 3 record(s)\n",
      "page 27 found 0 record(s)\n",
      "Finished...Total record(s): 151\n"
     ]
    }
   ],
   "source": [
    "count_page = 1\n",
    "total_record = 0\n",
    "while True:\n",
    "    # Duyệt trang mới\n",
    "    fill_url = url.format(count_page)\n",
    "    response = requests.get(fill_url)    \n",
    "    if (count_page > 1) & (response.url != fill_url):\n",
    "        break\n",
    "    count_page += 1\n",
    "    \n",
    "    # Với mỗi page, lấy danh sách sub_url của các khách sạn\n",
    "    tree = BeautifulSoup(response.text, 'html.parser')\n",
    "    data_hotel = tree.find('div', {'id': 'data-hotels', 'class':'hide'})\n",
    "    list_hotel = data_hotel.find_all('div', {'class': re.compile('product-item*')})\n",
    "\n",
    "    number_record = 0\n",
    "    for hotel in list_hotel:\n",
    "        hotel_id = hotel['data-id']\n",
    "        hotel_name = hotel.find('h2', {'class': 'title-sm h3'})['title']         \n",
    "        sub_url = 'https://mytour.vn' + hotel.find('a', {'class':'events-tracking product-name'})['href']\n",
    "                \n",
    "        rating = float(0)\n",
    "        rate_number = 0\n",
    "        review_tag = hotel.find('div', {'class':'box-review'})\n",
    "        if review_tag is not None:                   \n",
    "            rating_tag = review_tag.find('span', {'class':'rate'})        \n",
    "            if rating_tag is not None:\n",
    "                rating = float(rating_tag.string)\n",
    "\n",
    "            rate_number_tag = review_tag.find('p', {'class':'rate-number-info'})\n",
    "            if rate_number_tag is not None:\n",
    "                rate_number_tag = rate_number_tag.find('a')\n",
    "                if rate_number_tag is not None:\n",
    "                    rate_number_arr = re.findall('(?<!\\.)\\d+(?!\\.)', rate_number_tag.string)\n",
    "                    if len(rate_number_arr) > 0:\n",
    "                        rate_number = int(rate_number_arr[0])                \n",
    "        \n",
    "        if (rating >= min_rate) & (rate_number >= min_rate_number):\n",
    "            f.write(hotel_id + ',')  # id\n",
    "            f.write(hotel_name + ',')\n",
    "            f.write(sub_url + ',')\n",
    "            f.write(str(rating) + ',')\n",
    "            f.write(str(rate_number) + ',')\n",
    "                        \n",
    "            star = 0\n",
    "            star_tag = hotel.find('span', {'class':'star'})\n",
    "            if star_tag is not None:\n",
    "                    star_tag = star_tag.find('span')\n",
    "                    if star_tag is not None:\n",
    "                        star_arr = re.findall('(?<!\\.)\\d+(?!\\.)', star_tag['class'][0])\n",
    "                        if len(star_arr) > 0:\n",
    "                            star = star_arr[0]                      \n",
    "            f.write(str(star) + ',')           \n",
    "            \n",
    "            location_tag = hotel.find('a', {'class':'events-tracking', 'check-place' : str(hotel_id)})\n",
    "            if location_tag is not None:\n",
    "                lat = float(location_tag['data-map-lat'])\n",
    "                lng = float(location_tag['data-map-lng'])                \n",
    "                f.write(str(lat) + ',')\n",
    "                f.write(str(lng) + '\\n')\n",
    "            else:\n",
    "                f.write('-1\\t-1\\t')\n",
    "            \n",
    "            number_record += 1\n",
    "        \n",
    "    total_record += number_record\n",
    "    print('page {} found {} record(s)'.format(count_page - 1, number_record))\n",
    "\n",
    "print('Finished...Total record(s): {}'.format(total_record))\n",
    "f.close()"
   ]
  },
  {
   "cell_type": "code",
   "execution_count": null,
   "metadata": {},
   "outputs": [],
   "source": []
  }
 ],
 "metadata": {
  "kernelspec": {
   "display_name": "Python 3",
   "language": "python",
   "name": "python3"
  },
  "language_info": {
   "codemirror_mode": {
    "name": "ipython",
    "version": 3
   },
   "file_extension": ".py",
   "mimetype": "text/x-python",
   "name": "python",
   "nbconvert_exporter": "python",
   "pygments_lexer": "ipython3",
   "version": "3.7.1"
  }
 },
 "nbformat": 4,
 "nbformat_minor": 2
}
