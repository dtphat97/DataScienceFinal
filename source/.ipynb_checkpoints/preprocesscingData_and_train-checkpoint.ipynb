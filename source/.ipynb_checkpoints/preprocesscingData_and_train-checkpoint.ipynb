{
 "cells": [
  {
   "cell_type": "code",
   "execution_count": 1,
   "metadata": {},
   "outputs": [],
   "source": [
    "import pandas as pd\n",
    "import os\n",
    "import math\n",
    "from sklearn.model_selection import train_test_split\n",
    "from sklearn import  preprocessing\n",
    "import numpy as np"
   ]
  },
  {
   "cell_type": "code",
   "execution_count": 2,
   "metadata": {},
   "outputs": [
    {
     "name": "stdout",
     "output_type": "stream",
     "text": [
      "(5287, 13)\n"
     ]
    },
    {
     "data": {
      "text/plain": [
       "array(['star', 'lat', 'long', 'order_day', 'checkin_day', 'size',\n",
       "       'orientation', 'bed', 'attribute_number', 'max_guest_number',\n",
       "       'have_breakfast', 'cancel_ticket', 'price'], dtype=object)"
      ]
     },
     "execution_count": 2,
     "metadata": {},
     "output_type": "execute_result"
    }
   ],
   "source": [
    "raw_data = pd.read_csv('raw_data.csv')\n",
    "print(raw_data.shape)\n",
    "raw_data.columns.values"
   ]
  },
  {
   "cell_type": "code",
   "execution_count": 3,
   "metadata": {},
   "outputs": [
    {
     "name": "stdout",
     "output_type": "stream",
     "text": [
      "(5287, 12)\n",
      "(5287,)\n"
     ]
    }
   ],
   "source": [
    "# chia dữ liệu thành X và y\n",
    "raw_X = raw_data.drop('price', axis=1).values\n",
    "print(raw_X.shape)\n",
    "raw_y = raw_data.price.values\n",
    "print(raw_y.shape)"
   ]
  },
  {
   "cell_type": "code",
   "execution_count": 4,
   "metadata": {},
   "outputs": [
    {
     "name": "stdout",
     "output_type": "stream",
     "text": [
      "(4229, 12)\n",
      "(4229,)\n",
      "(1058, 12)\n",
      "(1058,)\n"
     ]
    }
   ],
   "source": [
    "# chia dữ liệu\n",
    "train_raw_X, test_raw_X, train_y, test_y = train_test_split(raw_X, raw_y, test_size=0.2, random_state=10)\n",
    "#train_raw_X, val_raw_X, train_raw_y, val_raw_y = train_test_split(train_raw_X, train_raw_y, test_size=0.25, random_state=10)\n",
    "\n",
    "print(train_raw_X.shape)\n",
    "print(train_y.shape)\n",
    "print(test_raw_X.shape)\n",
    "print(test_y.shape)"
   ]
  },
  {
   "cell_type": "code",
   "execution_count": 5,
   "metadata": {},
   "outputs": [],
   "source": [
    "#Hàm tính khoảng cách giữa 2 địa điểm dựa vào tọa độ\n",
    "def cal_distance(origin, destination):\n",
    "    lat1, lon1 = origin\n",
    "    lat2, lon2 = destination\n",
    "    radius = 6371 # km\n",
    "\n",
    "    dlat = math.radians(lat2-lat1)\n",
    "    dlon = math.radians(lon2-lon1)\n",
    "    a = math.sin(dlat/2) * math.sin(dlat/2) + math.cos(math.radians(lat1)) \\\n",
    "        * math.cos(math.radians(lat2)) * math.sin(dlon/2) * math.sin(dlon/2)\n",
    "    c = 2 * math.atan2(math.sqrt(a), math.sqrt(1-a))\n",
    "    d = radius * c\n",
    "\n",
    "    return d"
   ]
  },
  {
   "cell_type": "code",
   "execution_count": 6,
   "metadata": {},
   "outputs": [],
   "source": [
    "from sklearn.base import BaseEstimator, TransformerMixin\n",
    "import datetime"
   ]
  },
  {
   "cell_type": "code",
   "execution_count": 7,
   "metadata": {},
   "outputs": [],
   "source": [
    "class CalDistance(TransformerMixin):\n",
    "    def fit(self, X, y=None):\n",
    "        return self\n",
    "    def transform(self, X, y=None):\n",
    "        F = X.copy()\n",
    "    \n",
    "        lat = F[:,1]\n",
    "        long = F[:,2]\n",
    "        F = np.delete(F, np.s_[1,2], 1)\n",
    "        \n",
    "        #Tọa độ sân bay TP Đà Lạt\n",
    "        lat_Airport = 11.7490819\n",
    "        long_Airport = 108.3661379\n",
    "\n",
    "        #Toạ độ bến xe TP Đà Lạt\n",
    "        lat_Station = 11.9282352\n",
    "        long_Station = 108.4438984\n",
    "\n",
    "        #Toạ độ trung tâm TP Đà Lạt\n",
    "        lat_Center = 11.9404598\n",
    "        long_Center = 108.4349727\n",
    "        \n",
    "        distance = []\n",
    "        for i in range(0,len(lat)):\n",
    "            tmp = []\n",
    "            tmp.append(-cal_distance((lat_Airport, long_Airport), (lat[i], long[i])))\n",
    "            tmp.append(-cal_distance((lat_Station, long_Station), (lat[i], long[i])))\n",
    "            tmp.append(-cal_distance((lat_Center, long_Center), (lat[i], long[i]))) \n",
    "            distance.append(tmp)\n",
    "        \n",
    "        F = np.column_stack((F, distance))        \n",
    "        return F"
   ]
  },
  {
   "cell_type": "code",
   "execution_count": 8,
   "metadata": {},
   "outputs": [],
   "source": [
    "class CalTime(TransformerMixin):\n",
    "    def fit(self, X, y=None):\n",
    "        return self\n",
    "    def transform(self, X, y=None):\n",
    "        F = X.copy()\n",
    "        order = F[:,1]\n",
    "        check_in = F[:,2]\n",
    "        F = np.delete(F, np.s_[1,2], 1)\n",
    "        \n",
    "        # tính khoảng cách với ngày lễ\n",
    "        holidays = [ '24-12', '1-1' ]\n",
    "        holiday_check = []\n",
    "        week_day = []\n",
    "        time_distance = []\n",
    "        for i in range(0,len(check_in)):\n",
    "            ci = datetime.datetime.strptime(check_in[i], '%d-%m-%Y')\n",
    "            val = 0\n",
    "            for k in [-1,0,1]:\n",
    "                tmp = ci + datetime.timedelta(days=k)\n",
    "                for j in range(0, len(holidays)):\n",
    "                    p = holidays[j].split('-')\n",
    "                    if tmp.day == int(p[0]) and tmp.month == int(p[1]):\n",
    "                        val = 1\n",
    "                        break\n",
    "                if val == 1:\n",
    "                    break\n",
    "            holiday_check.append(val)\n",
    "            week_day.append(ci.weekday())\n",
    "            \n",
    "            o = datetime.datetime.strptime(order[i], '%d-%m-%Y')\n",
    "            time_distance.append(-abs((ci-o).days))    \n",
    "        \n",
    "        F = np.column_stack((F, time_distance))\n",
    "        F = np.column_stack((F, holiday_check))                \n",
    "        F = np.column_stack((F, week_day))\n",
    "        return F"
   ]
  },
  {
   "cell_type": "code",
   "execution_count": 9,
   "metadata": {},
   "outputs": [],
   "source": [
    "from sklearn.preprocessing import LabelEncoder,OneHotEncoder"
   ]
  },
  {
   "cell_type": "code",
   "execution_count": 10,
   "metadata": {},
   "outputs": [],
   "source": [
    "class CustomOneHotEncoder(TransformerMixin):\n",
    "    def __init__(self, cols):\n",
    "        self.cols = cols        \n",
    "    def fit(self, X, y=None):\n",
    "        self.dict = {}\n",
    "        for i in range(0,len(self.cols)):\n",
    "            col = self.cols[i]\n",
    "            self.dict[col] = X[:,col].max() + 1\n",
    "        return self\n",
    "    def transform(self, X, y=None):\n",
    "        F = X.copy()\n",
    "        \n",
    "        encoders = []\n",
    "        for i in range(0,len(self.cols)):\n",
    "            col = self.cols[i]\n",
    "            encoder = np.zeros((len(F), self.dict[col]))\n",
    "            \n",
    "            for j in range(0,len(F)):\n",
    "                if F[j,col] <= self.dict[col] - 1:\n",
    "                    encoder[j][F[j,col]] = 1\n",
    "                        \n",
    "            encoders.append(encoder)\n",
    "        \n",
    "        for i in range(0,len(encoders)):\n",
    "            F = np.delete(F, np.s_[self.cols[i]], 1)\n",
    "        for i in range(0,len(encoders)):    \n",
    "            F = np.column_stack((F, encoders[i]))\n",
    "        \n",
    "        return F"
   ]
  },
  {
   "cell_type": "code",
   "execution_count": 11,
   "metadata": {},
   "outputs": [],
   "source": [
    "class CustomEncoder(TransformerMixin):\n",
    "    def __init__(self, cols):\n",
    "        self.cols = cols        \n",
    "    def fit(self, X, y=None):\n",
    "        self.dict = {}\n",
    "        for i in range(0,len(self.cols)):\n",
    "            col = self.cols[i]\n",
    "            self.dict[col] = LabelEncoder()\n",
    "            self.dict[col].fit(X[:,col])\n",
    "        return self\n",
    "    def transform(self, X, y=None):\n",
    "        F = X.copy()\n",
    "        for i in range(0,len(self.cols)):\n",
    "            col = self.cols[i]\n",
    "            F[:,col] = self.dict[col].transform(F[:,col])\n",
    "        return F"
   ]
  },
  {
   "cell_type": "code",
   "execution_count": 12,
   "metadata": {},
   "outputs": [],
   "source": [
    "def split_number_text(raw):\n",
    "    number = '0'\n",
    "    text = ''\n",
    "    for i in range(0,len(raw)):\n",
    "        if raw[i] >= '0' and raw[i] <= '9':\n",
    "            number += raw[i]\n",
    "        else:\n",
    "            text += raw[i]\n",
    "    return int(number), text\n",
    "        \n",
    "    \n",
    "class CalBed(TransformerMixin):\n",
    "    def __init__(self):\n",
    "        self.col = 2\n",
    "    def fit(self, X, y=None):\n",
    "        self.max = 1\n",
    "        self.dict = {} \n",
    "        for i in range(0, len(X)):\n",
    "            bed = X[i][self.col].split('/')[0].replace(' ','')\n",
    "            detail = bed.split('+')\n",
    "            for j in range(0,len(detail)):\n",
    "                number,text=split_number_text(detail[j])\n",
    "                if text in self.dict:\n",
    "                    continue\n",
    "                else:\n",
    "                    self.dict[text] = self.max\n",
    "                    self.max += 1\n",
    "            \n",
    "            \n",
    "        return self\n",
    "    def transform(self, X, y=None):\n",
    "        F = X.copy()\n",
    "        \n",
    "        encoder = np.zeros((len(F), self.max))\n",
    "        for i in range(0, len(F)):\n",
    "            bed = X[i][self.col].split('/')[0].replace(' ','')\n",
    "            detail = bed.split('+')\n",
    "            for j in range(0,len(detail)):\n",
    "                number,text=split_number_text(detail[j])\n",
    "                if text in self.dict:\n",
    "                    encoder[i][self.dict[text]] = number\n",
    "                else:\n",
    "                    continue\n",
    "        \n",
    "        F = np.delete(F, np.s_[self.col], 1)\n",
    "        F = np.column_stack((F, encoder))\n",
    "                               \n",
    "        return F"
   ]
  },
  {
   "cell_type": "code",
   "execution_count": 13,
   "metadata": {},
   "outputs": [],
   "source": [
    "class CustomStandardScaler(TransformerMixin):\n",
    "    def __init__(self, cols):\n",
    "        self.cols = cols        \n",
    "    def fit(self, X, y=None):\n",
    "        self.dict = {}\n",
    "        for i in range(0,len(self.cols)):\n",
    "            col = self.cols[i]\n",
    "            mean = X[:,col].mean()\n",
    "            std = X[:,col].std()\n",
    "            self.dict[col] = (mean,std)\n",
    "        return self\n",
    "    def transform(self, X, y=None):\n",
    "        F = X.copy()\n",
    "        for i in range(0,len(self.cols)):\n",
    "            col = self.cols[i]\n",
    "            (mean,std) = self.dict[col]\n",
    "            F[:,col] = (F[:,col] - mean) / std\n",
    "        return F"
   ]
  },
  {
   "cell_type": "code",
   "execution_count": 14,
   "metadata": {},
   "outputs": [],
   "source": [
    "from sklearn.pipeline import Pipeline\n",
    "from sklearn.preprocessing import StandardScaler"
   ]
  },
  {
   "cell_type": "code",
   "execution_count": 15,
   "metadata": {},
   "outputs": [],
   "source": [
    "preprocess_X_pipeline = Pipeline([(\"cal_distance_extracter\", CalDistance()),\n",
    "                               (\"cal_time_extracter\", CalTime()),\n",
    "                               (\"cal_orientation_extracter\", CustomEncoder([2])),\n",
    "                               (\"custom_onehotencoder_extracter\", CustomOneHotEncoder([2,-1])),\n",
    "                               (\"cal_bed_extracter\", CalBed()), \n",
    "                               (\"custom_standard_scalerextracter\", CustomStandardScaler([0,1,2,3,6,7,8,9]))])"
   ]
  },
  {
   "cell_type": "code",
   "execution_count": null,
   "metadata": {},
   "outputs": [],
   "source": []
  },
  {
   "cell_type": "code",
   "execution_count": 16,
   "metadata": {},
   "outputs": [],
   "source": [
    "# chia dữ liệu train thành tập train và tập validation\n",
    "tmp_train_X, tmp_val_X, tmp_train_y, tmp_val_y = train_test_split(train_raw_X, train_y, test_size=0.25, random_state=10)\n",
    "\n",
    "# size = 0.25 để tập validation bằng số dòng với tập test\n",
    "#   vì 0.25 * 80% = 0.2 * 100%\n",
    "\n",
    "pre_tmp_train_X = preprocess_X_pipeline.fit_transform(tmp_train_X)\n",
    "pre_tmp_val_X = preprocess_X_pipeline.transform(tmp_val_X)"
   ]
  },
  {
   "cell_type": "code",
   "execution_count": 17,
   "metadata": {},
   "outputs": [
    {
     "name": "stdout",
     "output_type": "stream",
     "text": [
      "33\n",
      "33\n"
     ]
    }
   ],
   "source": [
    "print(len(pre_tmp_train_X[0]))\n",
    "print(len(pre_tmp_val_X[0]))"
   ]
  },
  {
   "cell_type": "code",
   "execution_count": 18,
   "metadata": {},
   "outputs": [
    {
     "name": "stdout",
     "output_type": "stream",
     "text": [
      "[ 3.69398118e+05  2.97653472e+04  4.27100467e+04  8.53983769e+04\n",
      " -7.77293450e+04 -8.89182343e+04  2.97636420e+04 -7.28829846e+04\n",
      "  9.35487469e+04  3.61387678e+04 -2.91038305e-11 -2.08717516e+05\n",
      "  7.37135461e+04 -7.66706979e+04  9.20211893e+04  5.13522700e+04\n",
      " -9.47124069e+04  2.45232730e+05 -8.22191144e+04 -9.61754109e+04\n",
      " -5.97741862e+04 -2.91615206e+04 -2.72632447e+04  7.66480733e+04\n",
      "  1.01525636e+05  3.42006535e+04 -7.27595761e-11 -1.76593461e+05\n",
      " -4.11886728e+04 -3.36222659e+05 -1.65719896e+05  0.00000000e+00\n",
      " -9.31902308e+04]\n",
      "1056780.6176914843\n"
     ]
    }
   ],
   "source": [
    "from sklearn.linear_model import LinearRegression \n",
    "regressor = LinearRegression()\n",
    "regressor.fit(pre_tmp_train_X, tmp_train_y)\n",
    "\n",
    "# Xem giá trị của các tham số của mô hình\n",
    "print(regressor.coef_)\n",
    "print(regressor.intercept_)"
   ]
  },
  {
   "cell_type": "code",
   "execution_count": 19,
   "metadata": {},
   "outputs": [],
   "source": [
    "# Xây dựng các hàm độ đo r^2 trên tập huấn luyện\n",
    "def compute_mse(y, predictions):\n",
    "    return ((y - predictions) ** 2).mean()\n",
    "def compute_rr(y, predictions, baseline_prediction):\n",
    "    return 1 - compute_mse(y, predictions) / compute_mse(y, baseline_prediction)\n",
    "baseline_prediction = train_y.mean() "
   ]
  },
  {
   "cell_type": "code",
   "execution_count": 20,
   "metadata": {},
   "outputs": [
    {
     "name": "stdout",
     "output_type": "stream",
     "text": [
      "Prediction in Training Dataset\n",
      "R2 : 0.6181800078371091\n",
      "RMSE: 345065.5890182804\n"
     ]
    }
   ],
   "source": [
    "# dự đoán trên tập dữ liệu train bằng mô hình Linear Regression\n",
    "prediction_X = regressor.predict(pre_tmp_train_X)\n",
    "print('Prediction in Training Dataset')\n",
    "print('R2 :', compute_rr(tmp_train_y, prediction_X, baseline_prediction))\n",
    "print('RMSE:', math.sqrt(compute_mse(tmp_train_y, prediction_X)))"
   ]
  },
  {
   "cell_type": "code",
   "execution_count": 21,
   "metadata": {},
   "outputs": [
    {
     "name": "stdout",
     "output_type": "stream",
     "text": [
      "Prediction in Validation Dataset\n",
      "R2 : 0.6205692174996242\n",
      "RMSE : 375213.0911025661\n"
     ]
    }
   ],
   "source": [
    "# dự đoán trên tập dữ liệu validation bằng mô hình Linear Regression\n",
    "prediction_X = regressor.predict(pre_tmp_val_X)\n",
    "print('Prediction in Validation Dataset')\n",
    "print('R2 :', compute_rr(tmp_val_y, prediction_X, baseline_prediction))\n",
    "print('RMSE :', math.sqrt(compute_mse(tmp_val_y, prediction_X)))"
   ]
  },
  {
   "cell_type": "code",
   "execution_count": 36,
   "metadata": {},
   "outputs": [
    {
     "data": {
      "image/png": "[encoded data removed]",
      "text/plain": [
       "<Figure size 432x288 with 1 Axes>"
      ]
     },
     "metadata": {
      "needs_background": "light"
     },
     "output_type": "display_data"
    }
   ],
   "source": [
    "# Sơ đồ đánh giá dữ liệu dự đoán tập validation bằng mô hình Linear Regression\n",
    "\n",
    "import matplotlib.pyplot as plt\n",
    "plt.scatter(tmp_val_y, prediction_X)\n",
    "plt.xlabel('True Values')\n",
    "plt.ylabel('Predictions')\n",
    "plt.show()"
   ]
  },
  {
   "cell_type": "code",
   "execution_count": 23,
   "metadata": {},
   "outputs": [],
   "source": [
    "from sklearn.neural_network import MLPRegressor"
   ]
  },
  {
   "cell_type": "code",
   "execution_count": 24,
   "metadata": {},
   "outputs": [
    {
     "data": {
      "text/plain": [
       "MLPRegressor(activation='relu', alpha=0.0001, batch_size='auto', beta_1=0.9,\n",
       "       beta_2=0.999, early_stopping=False, epsilon=1e-08,\n",
       "       hidden_layer_sizes=21, learning_rate='constant',\n",
       "       learning_rate_init=0.001, max_iter=1000, momentum=0.9,\n",
       "       n_iter_no_change=10, nesterovs_momentum=True, power_t=0.5,\n",
       "       random_state=0, shuffle=True, solver='lbfgs', tol=0.0001,\n",
       "       validation_fraction=0.1, verbose=False, warm_start=False)"
      ]
     },
     "execution_count": 24,
     "metadata": {},
     "output_type": "execute_result"
    }
   ],
   "source": [
    "neural_net_model = MLPRegressor(hidden_layer_sizes=(21), activation=\"relu\",\n",
    "                                solver=\"lbfgs\", max_iter=1000, random_state=0)\n",
    "neural_net_model.fit(pre_tmp_train_X, tmp_train_y)"
   ]
  },
  {
   "cell_type": "code",
   "execution_count": 25,
   "metadata": {},
   "outputs": [
    {
     "name": "stdout",
     "output_type": "stream",
     "text": [
      "Prediction in Training Dataset\n",
      "R2 : 0.9621608142733962\n",
      "RMSE: 108628.35706429125\n"
     ]
    }
   ],
   "source": [
    "# dự đoán trên tập dữ liệu train bằng mô hình Neural Net\n",
    "prediction_X = neural_net_model.predict(pre_tmp_train_X)\n",
    "print('Prediction in Training Dataset')\n",
    "print('R2 :', compute_rr(tmp_train_y, prediction_X, baseline_prediction))\n",
    "print('RMSE:', math.sqrt(compute_mse(tmp_train_y, prediction_X)))"
   ]
  },
  {
   "cell_type": "code",
   "execution_count": 26,
   "metadata": {},
   "outputs": [
    {
     "name": "stdout",
     "output_type": "stream",
     "text": [
      "Prediction in Validation Dataset\n",
      "R2 : 0.9551227025298841\n",
      "RMSE : 129040.20653617302\n"
     ]
    }
   ],
   "source": [
    "# dự đoán trên tập dữ liệu validation bằng mô hình Neural Net\n",
    "prediction_X = neural_net_model.predict(pre_tmp_val_X)\n",
    "print('Prediction in Validation Dataset')\n",
    "print('R2 :', compute_rr(tmp_val_y, prediction_X, baseline_prediction))\n",
    "print('RMSE :', math.sqrt(compute_mse(tmp_val_y, prediction_X)))"
   ]
  },
  {
   "cell_type": "code",
   "execution_count": 27,
   "metadata": {},
   "outputs": [
    {
     "data": {
      "image/png": "[encoded data removed]",
      "text/plain": [
       "<Figure size 432x288 with 1 Axes>"
      ]
     },
     "metadata": {
      "needs_background": "light"
     },
     "output_type": "display_data"
    }
   ],
   "source": [
    "# Sơ đồ đánh giá dữ liệu dự đoán tập validation bằng mô hình Neural Net\n",
    "\n",
    "import matplotlib.pyplot as plt\n",
    "plt.scatter(tmp_val_y, prediction_X)\n",
    "plt.xlabel('True Values')\n",
    "plt.ylabel('Predictions')\n",
    "plt.show()"
   ]
  },
  {
   "cell_type": "code",
   "execution_count": 28,
   "metadata": {},
   "outputs": [],
   "source": [
    "# Validation với KFold (K = 5)\n",
    "from sklearn.model_selection import KFold"
   ]
  },
  {
   "cell_type": "code",
   "execution_count": 29,
   "metadata": {},
   "outputs": [],
   "source": [
    "kf = KFold(n_splits=5)"
   ]
  },
  {
   "cell_type": "code",
   "execution_count": 30,
   "metadata": {},
   "outputs": [
    {
     "name": "stdout",
     "output_type": "stream",
     "text": [
      "1 0.9309817579320059\n",
      "2 0.956774463641184\n",
      "3 0.9392873999826442\n",
      "4 0.9519657162513661\n",
      "5 0.9416490745923337\n"
     ]
    }
   ],
   "source": [
    "i = 0\n",
    "max_r2 = 0\n",
    "max_train_index = []\n",
    "max_test_index = []\n",
    "for train_index, test_index in kf.split(train_raw_X):\n",
    "    i += 1\n",
    "    kf_train_X = train_raw_X[train_index]\n",
    "    kf_train_y = train_y[train_index]\n",
    "    kf_val_X = train_raw_X[test_index]\n",
    "    kf_val_y = train_y[test_index]\n",
    "    \n",
    "    kf_train_X = preprocess_X_pipeline.fit_transform(kf_train_X)\n",
    "    kf_val_X = preprocess_X_pipeline.transform(kf_val_X)\n",
    "    \n",
    "    # Dự đoán bằng mô hình Neural Net như phía trên\n",
    "    neural_net_model.fit(kf_train_X, kf_train_y)\n",
    "    prediction_X = neural_net_model.predict(kf_val_X)\n",
    "    score = compute_rr(kf_val_y, prediction_X, baseline_prediction)\n",
    "    print(i, score)\n",
    "    if score > max_r2:\n",
    "        max_train_index = train_index\n",
    "        max_test_index = test_index"
   ]
  },
  {
   "cell_type": "code",
   "execution_count": 31,
   "metadata": {},
   "outputs": [],
   "source": [
    "# Dự đoán trên tập dữ liệu test (private)"
   ]
  },
  {
   "cell_type": "code",
   "execution_count": 32,
   "metadata": {},
   "outputs": [],
   "source": [
    "# Bằng mô hình ban đầu"
   ]
  },
  {
   "cell_type": "code",
   "execution_count": 33,
   "metadata": {},
   "outputs": [
    {
     "name": "stdout",
     "output_type": "stream",
     "text": [
      "Prediction in Test Dataset\n",
      "R2 : 0.9462929028336443\n",
      "RMSE : 128642.97698083815\n"
     ]
    },
    {
     "data": {
      "image/png": "[encoded data removed]",
      "text/plain": [
       "<Figure size 432x288 with 1 Axes>"
      ]
     },
     "metadata": {
      "needs_background": "light"
     },
     "output_type": "display_data"
    }
   ],
   "source": [
    "# fit dữ liệu tập train\n",
    "pre_tmp_train_X = preprocess_X_pipeline.fit_transform(tmp_train_X)\n",
    "test_X = preprocess_X_pipeline.transform(test_raw_X)\n",
    "\n",
    "neural_net_model.fit(pre_tmp_train_X, tmp_train_y)\n",
    "\n",
    "# dự đoán trên tập dữ liệu test bằng mô hình Neural Net\n",
    "prediction_X = neural_net_model.predict(test_X)\n",
    "print('Prediction in Test Dataset')\n",
    "print('R2 :', compute_rr(test_y, prediction_X, baseline_prediction))\n",
    "print('RMSE :', math.sqrt(compute_mse(test_y, prediction_X)))\n",
    "\n",
    "# Sơ đồ đánh giá dữ liệu dự đoán tập test bằng mô hình Neural Net\n",
    "plt.scatter(test_y, prediction_X)\n",
    "plt.xlabel('True Values')\n",
    "plt.ylabel('Predictions')\n",
    "plt.show()"
   ]
  },
  {
   "cell_type": "code",
   "execution_count": 34,
   "metadata": {},
   "outputs": [],
   "source": [
    "# Bằng mô hình thu được bằng sử dụng K-Fold"
   ]
  },
  {
   "cell_type": "code",
   "execution_count": 35,
   "metadata": {},
   "outputs": [
    {
     "name": "stdout",
     "output_type": "stream",
     "text": [
      "Prediction in Test Dataset\n",
      "R2 : 0.9527912579070202\n",
      "RMSE : 120609.48308404713\n"
     ]
    },
    {
     "data": {
      "image/png": "[encoded data removed]",
      "text/plain": [
       "<Figure size 432x288 with 1 Axes>"
      ]
     },
     "metadata": {
      "needs_background": "light"
     },
     "output_type": "display_data"
    }
   ],
   "source": [
    "kf_train_X = train_raw_X[max_train_index]\n",
    "kf_train_y = train_y[max_train_index]\n",
    "    \n",
    "kf_train_X = preprocess_X_pipeline.fit_transform(kf_train_X)\n",
    "test_X = preprocess_X_pipeline.transform(test_raw_X)\n",
    "\n",
    "neural_net_model.fit(kf_train_X, kf_train_y)\n",
    "\n",
    "# dự đoán trên tập dữ liệu validation bằng mô hình Neural Net\n",
    "prediction_X = neural_net_model.predict(test_X)\n",
    "print('Prediction in Test Dataset')\n",
    "print('R2 :', compute_rr(test_y, prediction_X, baseline_prediction))\n",
    "print('RMSE :', math.sqrt(compute_mse(test_y, prediction_X)))\n",
    "\n",
    "# Sơ đồ đánh giá dữ liệu dự đoán tập test bằng mô hình Neural Net\n",
    "plt.scatter(test_y, prediction_X)\n",
    "plt.xlabel('True Values')\n",
    "plt.ylabel('Predictions')\n",
    "plt.show()"
   ]
  },
  {
   "cell_type": "code",
   "execution_count": null,
   "metadata": {},
   "outputs": [],
   "source": []
  }
 ],
 "metadata": {
  "kernelspec": {
   "display_name": "Python 3",
   "language": "python",
   "name": "python3"
  },
  "language_info": {
   "codemirror_mode": {
    "name": "ipython",
    "version": 3
   },
   "file_extension": ".py",
   "mimetype": "text/x-python",
   "name": "python",
   "nbconvert_exporter": "python",
   "pygments_lexer": "ipython3",
   "version": "3.7.1"
  }
 },
 "nbformat": 4,
 "nbformat_minor": 2
}
