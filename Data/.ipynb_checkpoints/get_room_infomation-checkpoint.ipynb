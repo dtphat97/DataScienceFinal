{
 "cells": [
  {
   "cell_type": "code",
   "execution_count": null,
   "metadata": {},
   "outputs": [],
   "source": [
    "import requests\n",
    "import pandas as pd\n",
    "from datetime import datetime\n",
    "from datetime import timedelta\n",
    "from bs4 import BeautifulSoup\n",
    "from selenium import webdriver\n",
    "from selenium.webdriver.common.keys import Keys\n",
    "from selenium.webdriver.chrome.options import Options\n",
    "import time\n",
    "import re\n",
    "from selenium.webdriver.support import expected_conditions as EC\n",
    "from selenium.webdriver.common.by import By"
   ]
  },
  {
   "cell_type": "markdown",
   "metadata": {},
   "source": [
    "Khởi tạo một vài tham số"
   ]
  },
  {
   "cell_type": "code",
   "execution_count": null,
   "metadata": {},
   "outputs": [],
   "source": [
    "options = Options()\n",
    "options.add_argument('--headless')\n",
    "browser = webdriver.Chrome(options=options)\n",
    "#browser = webdriver.Chrome()\n",
    "current_day = datetime.now()"
   ]
  },
  {
   "cell_type": "markdown",
   "metadata": {},
   "source": [
    "Lấy dữ liệu vừa thu được ở get_hotel_infomation.ipynb"
   ]
  },
  {
   "cell_type": "code",
   "execution_count": null,
   "metadata": {},
   "outputs": [],
   "source": [
    "hotel_data = pd.read_csv('list_hotel.csv', index_col = 0)\n",
    "hotel_data.head()"
   ]
  },
  {
   "cell_type": "markdown",
   "metadata": {},
   "source": [
    "Duyệt danh sách, với mỗi url, dùng selenium để chọn ngày checkin,checkout, lấy thông tin về giá"
   ]
  },
  {
   "cell_type": "markdown",
   "metadata": {},
   "source": [
    "get_back_next_button() : lấy 2 button chọn tháng của datetime picker\n",
    "\n",
    "get_first_day_left_table(): lấy ngày đầu tiên của tháng trùng với tháng start_day\n",
    "\n",
    "choose_day(): chọn start_day và end_day ở datetime picker\n",
    "\n",
    "choose_number_of_guest(): chọn số lượng khách tối đa (4)\n",
    "\n",
    "choose_and_submit(): gọi 2 hàm choose_day() và choose_number_of_guest() và submit (Cập nhật giá)"
   ]
  },
  {
   "cell_type": "code",
   "execution_count": null,
   "metadata": {},
   "outputs": [],
   "source": [
    "def get_back_next_button():\n",
    "    tables = browser.find_elements_by_class_name('t-table-condensed')\n",
    "    back_button = tables[0].find_element_by_tag_name('i')\n",
    "    next_button = tables[1].find_element_by_tag_name('i')\n",
    "    return back_button,next_button\n",
    "    \n",
    "def get_first_day_left_table():\n",
    "    tables = browser.find_elements_by_class_name('t-table-condensed')\n",
    "    table_left = tables[0]\n",
    "    month_left_lable = table_left.find_element_by_class_name('t-month')\n",
    "    tmp_day = month_left_lable.text\n",
    "    tmp_day = datetime.strptime(tmp_day.replace('Tháng', '1'), '%d %m %Y')\n",
    "    return tmp_day\n",
    "\n",
    "def choose_day(start_day, end_day):\n",
    "    tables = browser.find_elements_by_class_name('t-table-condensed')\n",
    "    cells_left = tables[0].find_elements_by_tag_name('td')\n",
    "    cells_right = tables[1].find_elements_by_tag_name('td')\n",
    "    \n",
    "    # start day\n",
    "    for cell in cells_left:\n",
    "        if cell.text == str(start_day.day):\n",
    "            cell.click()\n",
    "            break;\n",
    "                \n",
    "    tables = browser.find_elements_by_class_name('t-table-condensed')\n",
    "    idx = 0\n",
    "    if end_day.month > start_day.month:\n",
    "        idx = 1\n",
    "    \n",
    "    # end day\n",
    "    for cell in tables[idx].find_elements_by_tag_name('td'):\n",
    "        if cell.text == str(end_day.day):\n",
    "            cell.click()\n",
    "            break\n",
    "\n",
    "def choose_number_of_guest():\n",
    "    browser.find_element_by_class_name('room-guest-select').click()\n",
    "    select_guest_tag = browser.find_element_by_class_name('guest-select')\n",
    "    buttons = select_guest_tag.find_elements_by_tag_name('button')\n",
    "    buttons[1].click()\n",
    "    buttons[1].click()\n",
    "    return\n",
    "            \n",
    "def choose_and_submit(start_day, end_day, is_choose_number_of_guest):\n",
    "    browser.find_element_by_tag_name('html').send_keys(Keys.ESCAPE)\n",
    "    choose_day(start_day, end_day)\n",
    "    browser.find_element_by_tag_name('html').send_keys(Keys.ESCAPE)\n",
    "    \n",
    "    browser.implicitly_wait(3)\n",
    "    if is_choose_number_of_guest == True:\n",
    "        choose_number_of_guest()\n",
    "                \n",
    "    # submit\n",
    "    browser.find_element_by_id('search_submit').click()"
   ]
  },
  {
   "cell_type": "markdown",
   "metadata": {},
   "source": [
    "Lấy dữ liệu sau khi đã cập nhật giá"
   ]
  },
  {
   "cell_type": "code",
   "execution_count": null,
   "metadata": {},
   "outputs": [],
   "source": [
    "def get_data():\n",
    "    rooms = browser.find_elements_by_class_name('book-choose')\n",
    "    if len(rooms) == 0:\n",
    "        return []\n",
    "    \n",
    "    result = []\n",
    "        \n",
    "    for room in rooms:\n",
    "        items = room.find_element_by_class_name('product-content').find_elements_by_tag_name('p')\n",
    "        if len(items) == 5: # nếu đầy đủ thông tin\n",
    "            size = re.findall('(?<!\\.)\\d+(?!\\.)', items[1].text)[0]\n",
    "            orientation = items[2].text\n",
    "            bed = items[3].text.replace(',', ' +')    \n",
    "            \n",
    "            other_info = room.find_element_by_class_name('room').find_elements_by_tag_name('tr')\n",
    "            options_and_price = []\n",
    "            for info in other_info:\n",
    "                td_tags = info.find_elements_by_tag_name('td')\n",
    "                \n",
    "                # tim số người tối đa\n",
    "                span_max_guest_tag = td_tags[0].find_element_by_tag_name('span')\n",
    "                temp_str = span_max_guest_tag.get_attribute('data-original-title')\n",
    "                max_guest_number = re.findall('(?<!\\.)\\d+(?!\\.)', temp_str)[0]\n",
    "\n",
    "                have_breakfast = 0\n",
    "                cancel_ticket = 0\n",
    "                # tìm danh sách tiện nghi\n",
    "                p_tags = td_tags[1].find_elements_by_tag_name('p')\n",
    "                for p_tag in p_tags:\n",
    "                    if p_tag.text == 'Bao gồm Bữa sáng':\n",
    "                        have_breakfast = 1\n",
    "                    if p_tag.text == 'Điều kiện hoàn hủy':\n",
    "                        cancel_ticket = 1\n",
    "                \n",
    "                tmp_tag = browser.find_element_by_css_selector(\"p[class='price text-lg']\")            \n",
    "                price_tag = tmp_tag.find_element_by_tag_name('strong')\n",
    "                if price_tag is not None:\n",
    "                    price = re.findall('(\\d+)', price_tag.text.replace(',',''))[0]                \n",
    "                    options_and_price.append([max_guest_number, have_breakfast, cancel_ticket, price])\n",
    "            \n",
    "            result.append([size,orientation,bed,options_and_price])\n",
    "        \n",
    "    return result"
   ]
  },
  {
   "cell_type": "code",
   "execution_count": null,
   "metadata": {},
   "outputs": [],
   "source": [
    "def get_attributes_of_hotel():  # Lấy số lượng tiện nghi\n",
    "    element = browser.find_elements_by_class_name('attribute-value')\n",
    "    return len(element)"
   ]
  },
  {
   "cell_type": "code",
   "execution_count": null,
   "metadata": {},
   "outputs": [],
   "source": [
    "f = open('{}.csv'.format(current_day.strftime('%d-%m-%Y')), 'w', encoding='utf-8')\n",
    "f.write('id,checkin_day,size,orientation,bed,attribute_number,max_guest_number,have_breakfast,cancel_ticket,price\\n')"
   ]
  },
  {
   "cell_type": "code",
   "execution_count": null,
   "metadata": {},
   "outputs": [],
   "source": [
    "list_idx = hotel_data.index.values.tolist()\n",
    "for idx in list_idx:\n",
    "    try:\n",
    "        url = hotel_data.loc[idx,:]['url']\n",
    "\n",
    "        browser.get(url)\n",
    "        browser.find_element_by_tag_name('html').send_keys(Keys.ESCAPE)\n",
    "\n",
    "        print(hotel_data.loc[idx,:]['name'], end=' : ')\n",
    "\n",
    "        count = 0\n",
    "        for i in range(1,8):\n",
    "            start_day = current_day + timedelta(days=i)\n",
    "            end_day = current_day + timedelta(days=i+1)\n",
    "\n",
    "            browser.find_element_by_class_name('t-check-in').click()\n",
    "\n",
    "            # chuyển cột bên trái về tháng trùng với ngày bắt đầu\n",
    "            while True:\n",
    "                back_button,next_button = get_back_next_button()\n",
    "                tmp_day = get_first_day_left_table()\n",
    "\n",
    "                if tmp_day.month == start_day.month:\n",
    "                    choose_and_submit(start_day, end_day, i == 0)\n",
    "                    break;\n",
    "                else:\n",
    "                    if tmp_day.month > start_day.month:\n",
    "                        back_button.click()\n",
    "                    else:\n",
    "                        next_button.click()\n",
    "\n",
    "            attribute_number = get_attributes_of_hotel()\n",
    "            records = get_data()\n",
    "            for r in records:\n",
    "                checkin_day = start_day.strftime('%d-%m-%Y')\n",
    "                size = r[0]\n",
    "                orientation = r[1]\n",
    "                bed = r[2]\n",
    "                for o in r[3]:\n",
    "                    f.write('{},{},{},{},{},{},{},{},{},{}\\n'.format(idx,checkin_day,size,orientation,bed,attribute_number, o[0],o[1],o[2],o[3]))\n",
    "                    print('|', end='')\n",
    "                    count += 1\n",
    "    \n",
    "        print(' ==> found {} record(s)'.format(count))\n",
    "    except:\n",
    "        continue\n",
    "\n",
    "f.close()"
   ]
  }
 ],
 "metadata": {
  "kernelspec": {
   "display_name": "Python 3",
   "language": "python",
   "name": "python3"
  },
  "language_info": {
   "codemirror_mode": {
    "name": "ipython",
    "version": 3
   },
   "file_extension": ".py",
   "mimetype": "text/x-python",
   "name": "python",
   "nbconvert_exporter": "python",
   "pygments_lexer": "ipython3",
   "version": "3.7.0"
  }
 },
 "nbformat": 4,
 "nbformat_minor": 2
}
