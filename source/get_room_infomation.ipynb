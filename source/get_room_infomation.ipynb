{
 "cells": [
  {
   "cell_type": "code",
   "execution_count": 1,
   "metadata": {},
   "outputs": [],
   "source": [
    "import requests\n",
    "import pandas as pd\n",
    "from datetime import datetime\n",
    "from datetime import timedelta\n",
    "from bs4 import BeautifulSoup\n",
    "from selenium import webdriver\n",
    "from selenium.webdriver.common.keys import Keys\n",
    "from selenium.webdriver.chrome.options import Options\n",
    "import time\n",
    "import re\n",
    "from selenium.webdriver.support import expected_conditions as EC\n",
    "from selenium.webdriver.common.by import By"
   ]
  },
  {
   "cell_type": "markdown",
   "metadata": {},
   "source": [
    "Khởi tạo một vài tham số"
   ]
  },
  {
   "cell_type": "code",
   "execution_count": 2,
   "metadata": {},
   "outputs": [],
   "source": [
    "options = Options()\n",
    "options.add_argument('--headless')\n",
    "browser = webdriver.Chrome(options=options)\n",
    "#browser = webdriver.Chrome()\n",
    "current_day = datetime.now()"
   ]
  },
  {
   "cell_type": "markdown",
   "metadata": {},
   "source": [
    "Lấy dữ liệu vừa thu được ở get_hotel_infomation.ipynb"
   ]
  },
  {
   "cell_type": "code",
   "execution_count": 3,
   "metadata": {},
   "outputs": [
    {
     "data": {
      "text/html": [
       "<div>\n",
       "<style scoped>\n",
       "    .dataframe tbody tr th:only-of-type {\n",
       "        vertical-align: middle;\n",
       "    }\n",
       "\n",
       "    .dataframe tbody tr th {\n",
       "        vertical-align: top;\n",
       "    }\n",
       "\n",
       "    .dataframe thead th {\n",
       "        text-align: right;\n",
       "    }\n",
       "</style>\n",
       "<table border=\"1\" class=\"dataframe\">\n",
       "  <thead>\n",
       "    <tr style=\"text-align: right;\">\n",
       "      <th></th>\n",
       "      <th>name</th>\n",
       "      <th>url</th>\n",
       "      <th>rating</th>\n",
       "      <th>rate_number</th>\n",
       "      <th>star</th>\n",
       "      <th>lat</th>\n",
       "      <th>long</th>\n",
       "    </tr>\n",
       "    <tr>\n",
       "      <th>id</th>\n",
       "      <th></th>\n",
       "      <th></th>\n",
       "      <th></th>\n",
       "      <th></th>\n",
       "      <th></th>\n",
       "      <th></th>\n",
       "      <th></th>\n",
       "    </tr>\n",
       "  </thead>\n",
       "  <tbody>\n",
       "    <tr>\n",
       "      <th>11114</th>\n",
       "      <td>Villa T89 Đà Lạt</td>\n",
       "      <td>https://mytour.vn/11114-villa-t89-da-lat.html</td>\n",
       "      <td>7.6</td>\n",
       "      <td>107</td>\n",
       "      <td>2</td>\n",
       "      <td>11.970117</td>\n",
       "      <td>108.442098</td>\n",
       "    </tr>\n",
       "    <tr>\n",
       "      <th>12090</th>\n",
       "      <td>Nhà Nghỉ Tân Đạt</td>\n",
       "      <td>https://mytour.vn/12090-tan-dat-homestay-da-la...</td>\n",
       "      <td>8.5</td>\n",
       "      <td>63</td>\n",
       "      <td>1</td>\n",
       "      <td>11.959463</td>\n",
       "      <td>108.443439</td>\n",
       "    </tr>\n",
       "    <tr>\n",
       "      <th>247</th>\n",
       "      <td>Khách Sạn Bích Đào Boutique</td>\n",
       "      <td>https://mytour.vn/247-khach-san-bich-dao-bouti...</td>\n",
       "      <td>7.7</td>\n",
       "      <td>52</td>\n",
       "      <td>2</td>\n",
       "      <td>11.931666</td>\n",
       "      <td>108.426631</td>\n",
       "    </tr>\n",
       "    <tr>\n",
       "      <th>263</th>\n",
       "      <td>Khách Sạn Duy Tân Đà Lạt</td>\n",
       "      <td>https://mytour.vn/263-khach-san-duy-tan-da-lat...</td>\n",
       "      <td>7.6</td>\n",
       "      <td>44</td>\n",
       "      <td>2</td>\n",
       "      <td>11.941379</td>\n",
       "      <td>108.432397</td>\n",
       "    </tr>\n",
       "    <tr>\n",
       "      <th>13801</th>\n",
       "      <td>Khách sạn Phú An</td>\n",
       "      <td>https://mytour.vn/13801-khach-san-phu-an.html</td>\n",
       "      <td>8.2</td>\n",
       "      <td>24</td>\n",
       "      <td>1</td>\n",
       "      <td>11.948509</td>\n",
       "      <td>108.441118</td>\n",
       "    </tr>\n",
       "  </tbody>\n",
       "</table>\n",
       "</div>"
      ],
      "text/plain": [
       "                              name  \\\n",
       "id                                   \n",
       "11114            Villa T89 Đà Lạt    \n",
       "12090             Nhà Nghỉ Tân Đạt   \n",
       "247    Khách Sạn Bích Đào Boutique   \n",
       "263       Khách Sạn Duy Tân Đà Lạt   \n",
       "13801             Khách sạn Phú An   \n",
       "\n",
       "                                                     url  rating  rate_number  \\\n",
       "id                                                                              \n",
       "11114      https://mytour.vn/11114-villa-t89-da-lat.html     7.6          107   \n",
       "12090  https://mytour.vn/12090-tan-dat-homestay-da-la...     8.5           63   \n",
       "247    https://mytour.vn/247-khach-san-bich-dao-bouti...     7.7           52   \n",
       "263    https://mytour.vn/263-khach-san-duy-tan-da-lat...     7.6           44   \n",
       "13801      https://mytour.vn/13801-khach-san-phu-an.html     8.2           24   \n",
       "\n",
       "       star        lat        long  \n",
       "id                                  \n",
       "11114     2  11.970117  108.442098  \n",
       "12090     1  11.959463  108.443439  \n",
       "247       2  11.931666  108.426631  \n",
       "263       2  11.941379  108.432397  \n",
       "13801     1  11.948509  108.441118  "
      ]
     },
     "execution_count": 3,
     "metadata": {},
     "output_type": "execute_result"
    }
   ],
   "source": [
    "hotel_data = pd.read_csv('list_hotel.csv', index_col = 0)\n",
    "hotel_data.head()"
   ]
  },
  {
   "cell_type": "markdown",
   "metadata": {},
   "source": [
    "Duyệt danh sách, với mỗi url, dùng selenium để chọn ngày checkin,checkout, lấy thông tin về giá"
   ]
  },
  {
   "cell_type": "markdown",
   "metadata": {},
   "source": [
    "get_back_next_button() : lấy 2 button chọn tháng của datetime picker\n",
    "\n",
    "get_first_day_left_table(): lấy ngày đầu tiên của tháng trùng với tháng start_day\n",
    "\n",
    "choose_day(): chọn start_day và end_day ở datetime picker\n",
    "\n",
    "choose_number_of_guest(): chọn số lượng khách tối đa (4)\n",
    "\n",
    "choose_and_submit(): gọi 2 hàm choose_day() và choose_number_of_guest() và submit (Cập nhật giá)"
   ]
  },
  {
   "cell_type": "code",
   "execution_count": 4,
   "metadata": {},
   "outputs": [],
   "source": [
    "def get_back_next_button():\n",
    "    tables = browser.find_elements_by_class_name('t-table-condensed')\n",
    "    back_button = tables[0].find_element_by_tag_name('i')\n",
    "    next_button = tables[1].find_element_by_tag_name('i')\n",
    "    return back_button,next_button\n",
    "    \n",
    "def get_first_day_left_table():\n",
    "    tables = browser.find_elements_by_class_name('t-table-condensed')\n",
    "    table_left = tables[0]\n",
    "    month_left_lable = table_left.find_element_by_class_name('t-month')\n",
    "    tmp_day = month_left_lable.text\n",
    "    tmp_day = datetime.strptime(tmp_day.replace('Tháng', '1'), '%d %m %Y')\n",
    "    return tmp_day\n",
    "\n",
    "def choose_day(start_day, end_day):\n",
    "    tables = browser.find_elements_by_class_name('t-table-condensed')\n",
    "    cells_left = tables[0].find_elements_by_tag_name('td')\n",
    "    cells_right = tables[1].find_elements_by_tag_name('td')\n",
    "    \n",
    "    # start day\n",
    "    for cell in cells_left:\n",
    "        if cell.text == str(start_day.day):\n",
    "            cell.click()\n",
    "            break;\n",
    "                \n",
    "    tables = browser.find_elements_by_class_name('t-table-condensed')\n",
    "    idx = 0\n",
    "    if end_day.month > start_day.month:\n",
    "        idx = 1\n",
    "    \n",
    "    # end day\n",
    "    for cell in tables[idx].find_elements_by_tag_name('td'):\n",
    "        if cell.text == str(end_day.day):\n",
    "            cell.click()\n",
    "            break\n",
    "\n",
    "def choose_number_of_guest():\n",
    "    browser.find_element_by_class_name('room-guest-select').click()\n",
    "    select_guest_tag = browser.find_element_by_class_name('guest-select')\n",
    "    buttons = select_guest_tag.find_elements_by_tag_name('button')\n",
    "    buttons[1].click()\n",
    "    buttons[1].click()\n",
    "    return\n",
    "            \n",
    "def choose_and_submit(start_day, end_day, is_choose_number_of_guest):\n",
    "    browser.find_element_by_tag_name('html').send_keys(Keys.ESCAPE)\n",
    "    choose_day(start_day, end_day)\n",
    "    browser.find_element_by_tag_name('html').send_keys(Keys.ESCAPE)\n",
    "    \n",
    "    browser.implicitly_wait(3)\n",
    "    if is_choose_number_of_guest == True:\n",
    "        choose_number_of_guest()\n",
    "                \n",
    "    # submit\n",
    "    browser.find_element_by_id('search_submit').click()"
   ]
  },
  {
   "cell_type": "markdown",
   "metadata": {},
   "source": [
    "Lấy dữ liệu sau khi đã cập nhật giá"
   ]
  },
  {
   "cell_type": "code",
   "execution_count": 5,
   "metadata": {},
   "outputs": [],
   "source": [
    "def get_data():\n",
    "    rooms = browser.find_elements_by_class_name('book-choose')\n",
    "    if len(rooms) == 0:\n",
    "        return []\n",
    "    \n",
    "    result = []\n",
    "        \n",
    "    for room in rooms:\n",
    "        items = room.find_element_by_class_name('product-content').find_elements_by_tag_name('p')\n",
    "        if len(items) == 5: # nếu đầy đủ thông tin\n",
    "            size = re.findall('(?<!\\.)\\d+(?!\\.)', items[1].text)[0]\n",
    "            orientation = items[2].text\n",
    "            bed = items[3].text.replace(',', ' +')    \n",
    "            \n",
    "            other_info = room.find_element_by_class_name('room').find_elements_by_tag_name('tr')\n",
    "            options_and_price = []\n",
    "            for info in other_info:\n",
    "                td_tags = info.find_elements_by_tag_name('td')\n",
    "                \n",
    "                # tim số người tối đa\n",
    "                span_max_guest_tag = td_tags[0].find_element_by_tag_name('span')\n",
    "                temp_str = span_max_guest_tag.get_attribute('data-original-title')\n",
    "                max_guest_number = re.findall('(?<!\\.)\\d+(?!\\.)', temp_str)[0]\n",
    "\n",
    "                have_breakfast = 0\n",
    "                cancel_ticket = 0\n",
    "                # tìm danh sách tiện nghi\n",
    "                p_tags = td_tags[1].find_elements_by_tag_name('p')\n",
    "                for p_tag in p_tags:\n",
    "                    if p_tag.text == 'Bao gồm Bữa sáng':\n",
    "                        have_breakfast = 1\n",
    "                    if p_tag.text == 'Điều kiện hoàn hủy':\n",
    "                        cancel_ticket = 1\n",
    "                \n",
    "                tmp_tag = browser.find_element_by_css_selector(\"p[class='price text-lg']\")            \n",
    "                price_tag = tmp_tag.find_element_by_tag_name('strong')\n",
    "                if price_tag is not None:\n",
    "                    price = re.findall('(\\d+)', price_tag.text.replace(',',''))[0]                \n",
    "                    options_and_price.append([max_guest_number, have_breakfast, cancel_ticket, price])\n",
    "            \n",
    "            result.append([size,orientation,bed,options_and_price])\n",
    "        \n",
    "    return result"
   ]
  },
  {
   "cell_type": "code",
   "execution_count": 6,
   "metadata": {},
   "outputs": [],
   "source": [
    "def get_attributes_of_hotel():  # Lấy số lượng tiện nghi\n",
    "    element = browser.find_elements_by_class_name('attribute-value')\n",
    "    return len(element)"
   ]
  },
  {
   "cell_type": "code",
   "execution_count": 7,
   "metadata": {
    "scrolled": true
   },
   "outputs": [
    {
     "data": {
      "text/plain": [
       "105"
      ]
     },
     "execution_count": 7,
     "metadata": {},
     "output_type": "execute_result"
    }
   ],
   "source": [
    "f = open('{}.csv'.format(current_day.strftime('%d-%m-%Y')), 'w')\n",
    "f.write('id,checkin_day,size,orientation,bed,attribute_number,max_guest_number,have_breakfast,cancel_ticket,price\\n')"
   ]
  },
  {
   "cell_type": "code",
   "execution_count": 8,
   "metadata": {},
   "outputs": [
    {
     "name": "stdout",
     "output_type": "stream",
     "text": [
      "Villa T89 Đà Lạt  : |||||||||||||| ==> found 14 record(s)\n",
      "Nhà Nghỉ Tân Đạt : Khách Sạn Bích Đào Boutique : Khách Sạn Duy Tân Đà Lạt : ||||||||||Khách sạn Phú An : |||||||||||||||Đà Lạt Palace Heritage Hotel & Gold Club : ||||||||||||||||||||Khách Sạn La Sapinette Đà Lạt : ||||||||||||||||||||||||||||||||||||||||Khách Sạn TTC Hotel Premium - Da lat : |||||||||||||||||Khách Sạn Sài Gòn Đà Lạt  : Khách Sạn Mường Thanh Holiday Đà Lạt  : ||||||||||Khách Sạn TTC Hotel Premium Ngọc Lan (Ngọc Lan Đà Lạt ) : ||||||Khách Sạn Sammy Đà Lạt : ||||||||||||||Khách Sạn Kỳ Hòa Đà Lạt : ||||||||||Khách Sạn Đà Lạt Du Parc : ||||||||||||||||||||Khách Sạn Le Petit Paris Đà Lạt : |||||||||||||||Khách Sạn Dragon King : ||||||||||||||||||||Khách Sạn Anh Đào Đà Lạt : |||||||||||||||||||||||||Khách Sạn Rum Vàng 2  : ||||||Khách Sạn Minh Tâm  : ||||||||||||||||||||Khách Sạn Thắng Lợi 1 : Khách sạn Kim Hòa : ||||||||||||||||||||||||||||||Terracotta Hotel and Resort Đà Lạt : Khách sạn Anna Sương : ||||||||||||||||||||||||||||||Khách Sạn Bluewater Đà Lạt : ||||||||||Khách sạn Trung Nhân : nan : Khách Sạn Mai Vàng Đà Lạt  : ||||||||||||||||||||Khách Sạn Thắng Lợi Bùi Thị Xuân : |||||||||||||||||||Khách Sạn River Prince Đà Lạt  : ||||||||||||||||||||||||||Đà Lạt Cadasa Resort   : ||||||||||||||||||||||||||||||||||||||||Khách Sạn Gold Star Đà Lạt : Khách Sạn Dalat Plaza : Biệt Thự Hoàng Lộc Đà Lạt : |||||||||||||||||||||||||Khách Sạn Gold Night : ||||Happy Day 1 Guesthouse : ||||||||||||Khách sạn The Luxe Đà Lạt : |||||||||||||||||||||||||||||||||||||||Khách Sạn Quốc Hương : |||||||||||||||||||||||||Hoa Cát Guesthouse : |||||||||||||||Khách sạn Sơn Thủy 1 : Khách sạn Nhật Vy : |||||Khách Sạn Mỹ Thoa : Khách sạn Phương Uyên : ||||||||||SAM Tuyen Lam Golf (Sacom Tuyền Lâm Golf Club Resort) : ||||||||||Khách sạn Marguerite : ||||||||||||||||||||||||||||||||Khách Sạn Xuân Hồng 2 : ||||||||||||||||||||Khách Sạn Hải Duyên : ||||||||||Khách Sạn Golf 1 ( ks tạm ngừng hoạt động) : Khách Sạn Green Đà Lạt : |||||||||||||||Khách Sạn Lữ Tấn : Khách Sạn Thanh Loan 3 : |||||Khách Sạn Thanh Thảo : ||||||||Khách Sạn HP Villa : Khách Sạn Phương Huy 2 Đà Lạt : ||||||||||Monet Garden Villa (Hoàng Anh - Đất Xanh cũ) : |||Khách Sạn Đại Lợi Fortune  : Zen Valley Dalat Resort : ||||||||||||||||||Khách Sạn My Dream 1 : ||||||||||||||||||||Khách sạn Bách An Lạc : Khách sạn Ngọc Châu Đà Lạt : |||||||||||||||||||||||||Đà Lạt Edensee Lake Resort & Spa : |||||||||||||||||||||||||||Khách Sạn Saphir Đà Lạt : ||||||||||||||||||||||Khách Sạn Thi Thảo Gardenia Đà Lạt : ||||||||||Khách Sạn Hoan Hỷ : Khách Sạn PX : |||||||||||||||Mộng Mơ Resort : ||||||||||||||||||||Khách Sạn Phương Huy 1 : ||||||||||||||||||||Khách Sạn Royal Đà Lạt : ||||||||||||nan : Ana Mandara Villas Dalat Resort & Spa : Khách Sạn La Pensee  : Nhà nghỉ Du lịch Phương Huy 3 Đà Lạt : Khách Sạn My Dream 2 : |||||||||||||||Khách Sạn Nguyên Anh 3/2 : ||||||||||DaLat De Charme Village : ||||||||||||||||||||Khách Sạn Rừng Hoa Đà Lạt  : |||||Khách sạn Victory Đà Lạt ( Lê Vi cũ ) : ||||||||||||||||||||Khách Sạn Tulip Xanh : Khách Sạn Thy Thư : Khách sạn Reveto Đà Lạt : Osaka Village Đà Lạt : ||||||||||Khách Sạn Phố Núi : |||||||||||||||||||||||||||||||||||||||||||||Khách Sạn Tulip 1 Đà Lạt : ||||||||||||||||||||||||Khách Sạn Hồng Hoa : Khách Sạn Lê Nguyễn : |||Nhà nghỉ Xưa và Nay 1 : |||||||||||||||Khách Sạn Sen Vàng : |||||||||||||||Biệt thư Khánh Lâm : |||||||||Nhà nghỉ Xưa Và Nay 2 : ||||||||||Khách Sạn Phạm Lê : |||||||||||||||Khách Sạn Villa Sunset Dalat : ||||||||||Khách sạn Phước Sơn  : ||||||||||Khách Sạn Giai Điệu Melody : Hotel Kings : Khách sạn Happy Day Đà Lạt (cơ sở 2) : |Khách Sạn Beepub : Khách Sạn Thắng Lợi 2 Đà Lạt : Khách Sạn Tâm Dung 1 : Khách Sạn Tâm Dung 2 : Khách Sạn Xuân Hồng 1 : Khách sạn Ngọc Trâm Anh : Khách Sạn Phố Lạnh : Khách Sạn Ngọc Phát : Khách sạn Triều Hảo : Khách sạn Du Lys : SAM Tuyen Lam Resort (Sacom Resort cũ) : Khách sạn Ngàn Hoa Đà Lạt : Bình An Village Resort Dalat : Khách Sạn Liên Viễn Phát : I - Hotel Đà Lạt : Khách Sạn Hằng Nga 1 : Khách Sạn Villathol : Biệt Thự Hồng Môn : Khách Sạn Gold Dream : Biệt thự Lê Hoàng : Khách Sạn Nice Dream : Khách sạn Nam Đông : Yolo Hostel N Bar : Swiss-Belresort Tuyen Lam Dalat Resort : Khách Sạn Hoàng Minh Châu : Nguyên Minh guesthouse : |||||||||||Bạch Dương Villa : Khách sạn Trung Cang : Khách sạn Lá Xanh : |||Khách sạn Diamond Đà Lạt (ngay khu Hòa Bình) : Khách sạn Iris Đà Lạt : Khách sạn Ngoc Nguyên Anh  : Khách sạn Pansy : Khách sạn Arapang : |||||||||||||||||||||Khách sạn Hương Sen Đà Lạt : Khách sạn Yolo Camping House : Ken's House Backpackers - Downtown : Tuấn Vũ Homestay : |||Khách sạn Ngọc Trai Vàng : Khách sạn ISANA  : |||||||||Khách sạn Xuân Cường : Khách sạn Tamy : Khách sạn Hoàng Quân Đà Lạt : Khách sạn Lưu Thái Hiền : Khách sạn Tulip 3 Đà Lạt : Khách sạn White Pearl : Khách sạn Khánh Thịnh : Khách sạn Mimosa  : Khách sạn A.M Memory : Khách sạn Bình Đào : Trịnh Gia Homestay Đà Lạt : Biệt thự La Vie En Rose : Biệt thự Memory Đà Lạt : Khách sạn Sơn Thủy 2 : Khách sạn An An Đà Lạt : Khách sạn Ladalat : Khách sạn Lucky Star Đà Lạt : "
     ]
    }
   ],
   "source": [
    "list_idx = hotel_data.index.values.tolist()\n",
    "crawled = 0\n",
    "for idx in list_idx:\n",
    "    crawled += 1;\n",
    "    try:\n",
    "        url = hotel_data.loc[idx,:]['url']\n",
    "\n",
    "        browser.get(url)\n",
    "        browser.find_element_by_tag_name('html').send_keys(Keys.ESCAPE)\n",
    "\n",
    "        print(hotel_data.loc[idx,:]['name'], end=' : ')\n",
    "\n",
    "        count = 0\n",
    "        for i in range(1,8):\n",
    "            start_day = current_day + timedelta(days=i)\n",
    "            end_day = current_day + timedelta(days=i+1)\n",
    "\n",
    "            browser.find_element_by_class_name('t-check-in').click()\n",
    "\n",
    "            # chuyển cột bên trái về tháng trùng với ngày bắt đầu\n",
    "            while True:\n",
    "                back_button,next_button = get_back_next_button()\n",
    "                tmp_day = get_first_day_left_table()\n",
    "\n",
    "                if tmp_day.month == start_day.month:\n",
    "                    choose_and_submit(start_day, end_day, i == 0)\n",
    "                    break;\n",
    "                else:\n",
    "                    if tmp_day.month > start_day.month:\n",
    "                        back_button.click()\n",
    "                    else:\n",
    "                        next_button.click()\n",
    "\n",
    "            attribute_number = get_attributes_of_hotel()\n",
    "            records = get_data()\n",
    "            for r in records:\n",
    "                checkin_day = start_day.strftime('%d-%m-%Y')\n",
    "                size = r[0]\n",
    "                orientation = r[1]\n",
    "                bed = r[2]\n",
    "                for o in r[3]:\n",
    "                    f.write('{},{},{},{},{},{},{},{},{},{}\\n'.format(idx,checkin_day,size,orientation,bed,attribute_number, o[0],o[1],o[2],o[3]))\n",
    "                    print('|', end='')\n",
    "                    count += 1\n",
    "\n",
    "        print(' ==> found {} record(s)'.format(count))\n",
    "    except:\n",
    "        print('\\n')\n",
    "        continue\n",
    "f.close()"
   ]
  },
  {
   "cell_type": "code",
   "execution_count": null,
   "metadata": {},
   "outputs": [],
   "source": []
  }
 ],
 "metadata": {
  "kernelspec": {
   "display_name": "Python 3",
   "language": "python",
   "name": "python3"
  },
  "language_info": {
   "codemirror_mode": {
    "name": "ipython",
    "version": 3
   },
   "file_extension": ".py",
   "mimetype": "text/x-python",
   "name": "python",
   "nbconvert_exporter": "python",
   "pygments_lexer": "ipython3",
   "version": "3.7.1"
  }
 },
 "nbformat": 4,
 "nbformat_minor": 2
}
