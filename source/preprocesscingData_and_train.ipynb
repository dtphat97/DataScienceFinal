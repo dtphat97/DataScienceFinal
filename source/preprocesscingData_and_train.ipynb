{
 "cells": [
  {
   "cell_type": "code",
   "execution_count": 1,
   "metadata": {},
   "outputs": [],
   "source": [
    "import pandas as pd\n",
    "import os\n",
    "import math\n",
    "from sklearn.model_selection import train_test_split\n",
    "from sklearn import preprocessing\n",
    "import numpy as np"
   ]
  },
  {
   "cell_type": "code",
   "execution_count": 2,
   "metadata": {},
   "outputs": [
    {
     "name": "stdout",
     "output_type": "stream",
     "text": [
      "(1578, 13)\n",
      "['star' 'lat' 'long' 'order_day' 'checkin_day' 'size' 'orientation' 'bed'\n",
      " 'attribute_number' 'max_guest_number' 'have_breakfast' 'cancel_ticket'\n",
      " 'price']\n",
      "(1578, 12)\n",
      "(1578,)\n"
     ]
    }
   ],
   "source": [
    "# đọc dữ liệu tập train\n",
    "raw_data = pd.read_csv('raw_data_train.csv')\n",
    "print(raw_data.shape)\n",
    "print(raw_data.columns.values)\n",
    "\n",
    "# chia dữ liệu thành X và y\n",
    "raw_train_X = raw_data.drop('price', axis=1).values\n",
    "print(raw_train_X.shape)\n",
    "train_y = raw_data.price.values\n",
    "print(train_y.shape)"
   ]
  },
  {
   "cell_type": "code",
   "execution_count": 3,
   "metadata": {},
   "outputs": [
    {
     "name": "stdout",
     "output_type": "stream",
     "text": [
      "(487, 13)\n",
      "(487, 12)\n",
      "(487,)\n"
     ]
    }
   ],
   "source": [
    "# đọc dữ liệu tập validation\n",
    "raw_data = pd.read_csv('raw_data_val.csv')\n",
    "print(raw_data.shape)\n",
    "raw_data.columns.values\n",
    "\n",
    "# chia dữ liệu thành X và y\n",
    "raw_val_X = raw_data.drop('price', axis=1).values\n",
    "print(raw_val_X.shape)\n",
    "val_y = raw_data.price.values\n",
    "print(val_y.shape)"
   ]
  },
  {
   "cell_type": "code",
   "execution_count": 4,
   "metadata": {},
   "outputs": [
    {
     "name": "stdout",
     "output_type": "stream",
     "text": [
      "(331, 13)\n",
      "(331, 12)\n",
      "(331,)\n"
     ]
    }
   ],
   "source": [
    "# đọc dữ liệu tập test\n",
    "raw_data = pd.read_csv('raw_data_test.csv')\n",
    "print(raw_data.shape)\n",
    "raw_data.columns.values\n",
    "\n",
    "# chia dữ liệu thành X và y\n",
    "raw_test_X = raw_data.drop('price', axis=1).values\n",
    "print(raw_test_X.shape)\n",
    "test_y = raw_data.price.values\n",
    "print(test_y.shape)"
   ]
  },
  {
   "cell_type": "code",
   "execution_count": 5,
   "metadata": {},
   "outputs": [],
   "source": [
    "#Hàm tính khoảng cách giữa 2 địa điểm dựa vào tọa độ\n",
    "def cal_distance(origin, destination):\n",
    "    lat1, lon1 = origin\n",
    "    lat2, lon2 = destination\n",
    "    radius = 6371 # km\n",
    "\n",
    "    dlat = math.radians(lat2-lat1)\n",
    "    dlon = math.radians(lon2-lon1)\n",
    "    a = math.sin(dlat/2) * math.sin(dlat/2) + math.cos(math.radians(lat1)) \\\n",
    "        * math.cos(math.radians(lat2)) * math.sin(dlon/2) * math.sin(dlon/2)\n",
    "    c = 2 * math.atan2(math.sqrt(a), math.sqrt(1-a))\n",
    "    d = radius * c\n",
    "\n",
    "    return d"
   ]
  },
  {
   "cell_type": "code",
   "execution_count": 6,
   "metadata": {},
   "outputs": [],
   "source": [
    "from sklearn.base import BaseEstimator, TransformerMixin\n",
    "import datetime"
   ]
  },
  {
   "cell_type": "markdown",
   "metadata": {},
   "source": [
    "# Chuyển cột lat (1),long(2) thành khoảng cách đến sân bay, bến xe, trung tâm. Thêm vào 3 cột cuối "
   ]
  },
  {
   "cell_type": "code",
   "execution_count": 7,
   "metadata": {},
   "outputs": [],
   "source": [
    "class CalDistance(TransformerMixin):\n",
    "    def fit(self, X, y=None):\n",
    "        return self\n",
    "    def transform(self, X, y=None):\n",
    "        F = X.copy()\n",
    "    \n",
    "        lat = F[:,1]\n",
    "        long = F[:,2]\n",
    "        F = np.delete(F, np.s_[1,2], 1)\n",
    "        \n",
    "        #Tọa độ sân bay TP Đà Lạt\n",
    "        lat_Airport = 11.7490819\n",
    "        long_Airport = 108.3661379\n",
    "\n",
    "        #Toạ độ bến xe TP Đà Lạt\n",
    "        lat_Station = 11.9282352\n",
    "        long_Station = 108.4438984\n",
    "\n",
    "        #Toạ độ trung tâm TP Đà Lạt\n",
    "        lat_Center = 11.9404598\n",
    "        long_Center = 108.4349727\n",
    "        \n",
    "        distance = []\n",
    "        for i in range(0,len(lat)):\n",
    "            tmp = []\n",
    "            tmp.append(-cal_distance((lat_Airport, long_Airport), (lat[i], long[i])))\n",
    "            tmp.append(-cal_distance((lat_Station, long_Station), (lat[i], long[i])))\n",
    "            tmp.append(-cal_distance((lat_Center, long_Center), (lat[i], long[i]))) \n",
    "            distance.append(tmp)\n",
    "        \n",
    "        F = np.column_stack((F, distance))        \n",
    "        return F"
   ]
  },
  {
   "cell_type": "markdown",
   "metadata": {},
   "source": [
    "# Chuyển cột order_time và checkin_time thành khoảng cách ngày đặt và nhận phòng, có phải kì nghĩ lễ hay không, là thứ mấy trong tuần. Thêm vào 3 cột cuối"
   ]
  },
  {
   "cell_type": "code",
   "execution_count": 8,
   "metadata": {},
   "outputs": [],
   "source": [
    "class CalTime(TransformerMixin):\n",
    "    def fit(self, X, y=None):\n",
    "        return self\n",
    "    def transform(self, X, y=None):\n",
    "        F = X.copy()\n",
    "        order = F[:,1]\n",
    "        check_in = F[:,2]\n",
    "        F = np.delete(F, np.s_[1,2], 1)\n",
    "        \n",
    "        # tính khoảng cách với ngày lễ\n",
    "        holidays = [ '24-12', '1-1' ]\n",
    "        holiday_check = []\n",
    "        week_day = []\n",
    "        time_distance = []\n",
    "        for i in range(0,len(check_in)):\n",
    "            ci = datetime.datetime.strptime(check_in[i], '%d-%m-%Y')\n",
    "            val = 0\n",
    "            for k in [-1,0,1]:\n",
    "                tmp = ci + datetime.timedelta(days=k)\n",
    "                for j in range(0, len(holidays)):\n",
    "                    p = holidays[j].split('-')\n",
    "                    if tmp.day == int(p[0]) and tmp.month == int(p[1]):\n",
    "                        val = 1\n",
    "                        break\n",
    "                if val == 1:\n",
    "                    break\n",
    "            holiday_check.append(val)\n",
    "            week_day.append(ci.weekday())\n",
    "            \n",
    "            o = datetime.datetime.strptime(order[i], '%d-%m-%Y')\n",
    "            time_distance.append(-abs((ci-o).days))    \n",
    "        \n",
    "        F = np.column_stack((F, time_distance))\n",
    "        F = np.column_stack((F, holiday_check))                \n",
    "        F = np.column_stack((F, week_day))\n",
    "        return F"
   ]
  },
  {
   "cell_type": "code",
   "execution_count": 9,
   "metadata": {},
   "outputs": [],
   "source": [
    "from sklearn.preprocessing import LabelEncoder,OneHotEncoder"
   ]
  },
  {
   "cell_type": "markdown",
   "metadata": {},
   "source": [
    "# Chuyển một cột về dạng label encoder"
   ]
  },
  {
   "cell_type": "code",
   "execution_count": 10,
   "metadata": {},
   "outputs": [],
   "source": [
    "class CustomEncoder(TransformerMixin):\n",
    "    def __init__(self, cols):\n",
    "        self.cols = cols        \n",
    "    def fit(self, X, y=None):\n",
    "        self.dict = {}\n",
    "        for i in range(0,len(self.cols)):\n",
    "            col = self.cols[i]\n",
    "            self.dict[col] = LabelEncoder()\n",
    "            self.dict[col].fit(X[:,col])\n",
    "        return self\n",
    "    def transform(self, X, y=None):\n",
    "        F = X.copy()\n",
    "        for i in range(0,len(self.cols)):\n",
    "            col = self.cols[i]\n",
    "            try:\n",
    "                F[:,col] = self.dict[col].transform(F[:,col])\n",
    "            except:\n",
    "                F[:,col] = 0\n",
    "        return F"
   ]
  },
  {
   "cell_type": "markdown",
   "metadata": {},
   "source": [
    "# Chuyển các cột về dạng One Hot, sau khi thêm lần lượt các cột vào cuối mới tiến hành xóa"
   ]
  },
  {
   "cell_type": "code",
   "execution_count": 11,
   "metadata": {},
   "outputs": [],
   "source": [
    "class CustomOneHotEncoder(TransformerMixin):\n",
    "    def __init__(self, cols):\n",
    "        self.cols = cols        \n",
    "    def fit(self, X, y=None):\n",
    "        self.dict = {}\n",
    "        for i in range(0,len(self.cols)):\n",
    "            col = self.cols[i]\n",
    "            self.dict[col] = X[:,col].max() + 1\n",
    "        return self\n",
    "    def transform(self, X, y=None):\n",
    "        F = X.copy()\n",
    "        \n",
    "        encoders = []\n",
    "        for i in range(0,len(self.cols)):\n",
    "            col = self.cols[i]\n",
    "            encoder = np.zeros((len(F), self.dict[col]))\n",
    "            \n",
    "            for j in range(0,len(F)):\n",
    "                if F[j,col] <= self.dict[col] - 1:\n",
    "                    encoder[j][F[j,col]] = 1\n",
    "                        \n",
    "            encoders.append(encoder)\n",
    "        \n",
    "        for i in range(0,len(encoders)):\n",
    "            F = np.delete(F, np.s_[self.cols[i]], 1)\n",
    "        for i in range(0,len(encoders)):    \n",
    "            F = np.column_stack((F, encoders[i]))\n",
    "        \n",
    "        return F"
   ]
  },
  {
   "cell_type": "markdown",
   "metadata": {},
   "source": [
    "# Chuyển bed về dạng custom one hot encoder"
   ]
  },
  {
   "cell_type": "code",
   "execution_count": 12,
   "metadata": {},
   "outputs": [],
   "source": [
    "def split_number_text(raw):\n",
    "    number = '0'\n",
    "    text = ''\n",
    "    for i in range(0,len(raw)):\n",
    "        if raw[i] >= '0' and raw[i] <= '9':\n",
    "            number += raw[i]\n",
    "        else:\n",
    "            text += raw[i]\n",
    "    return int(number), text\n",
    "        \n",
    "    \n",
    "class CalBed(TransformerMixin):\n",
    "    def __init__(self):\n",
    "        self.col = 2\n",
    "    def fit(self, X, y=None):\n",
    "        self.max = 1\n",
    "        self.dict = {} \n",
    "        for i in range(0, len(X)):\n",
    "            bed = X[i][self.col].split('/')[0].replace(' ','')\n",
    "            detail = bed.split('+')\n",
    "            for j in range(0,len(detail)):\n",
    "                number,text=split_number_text(detail[j])\n",
    "                if text in self.dict:\n",
    "                    continue\n",
    "                else:\n",
    "                    self.dict[text] = self.max\n",
    "                    self.max += 1\n",
    "            \n",
    "            \n",
    "        return self\n",
    "    def transform(self, X, y=None):\n",
    "        F = X.copy()\n",
    "        \n",
    "        encoder = np.zeros((len(F), self.max))\n",
    "        for i in range(0, len(F)):\n",
    "            bed = X[i][self.col].split('/')[0].replace(' ','')\n",
    "            detail = bed.split('+')\n",
    "            for j in range(0,len(detail)):\n",
    "                number,text=split_number_text(detail[j])\n",
    "                if text in self.dict:\n",
    "                    encoder[i][self.dict[text]] = number\n",
    "                else:\n",
    "                    continue\n",
    "        \n",
    "        F = np.delete(F, np.s_[self.col], 1)\n",
    "        F = np.column_stack((F, encoder))\n",
    "        return F"
   ]
  },
  {
   "cell_type": "markdown",
   "metadata": {},
   "source": [
    "# Scale một số cột cho trước bằng cách -mean / std"
   ]
  },
  {
   "cell_type": "code",
   "execution_count": 13,
   "metadata": {},
   "outputs": [],
   "source": [
    "class CustomStandardScaler(TransformerMixin):\n",
    "    def __init__(self, cols):\n",
    "        self.cols = cols        \n",
    "    def fit(self, X, y=None):\n",
    "        self.dict = {}\n",
    "        for i in range(0,len(self.cols)):\n",
    "            col = self.cols[i]\n",
    "            mean = X[:,col].mean()\n",
    "            std = X[:,col].std()\n",
    "            self.dict[col] = (mean,std)\n",
    "        return self\n",
    "    def transform(self, X, y=None):\n",
    "        F = X.copy()\n",
    "        for i in range(0,len(self.cols)):\n",
    "            col = self.cols[i]\n",
    "            (mean,std) = self.dict[col]\n",
    "            F[:,col] = (F[:,col] - mean) / std\n",
    "        return F"
   ]
  },
  {
   "cell_type": "code",
   "execution_count": 14,
   "metadata": {},
   "outputs": [],
   "source": [
    "from sklearn.pipeline import Pipeline\n",
    "from sklearn.preprocessing import StandardScaler"
   ]
  },
  {
   "cell_type": "markdown",
   "metadata": {},
   "source": [
    "Đưa vào pipeline"
   ]
  },
  {
   "cell_type": "code",
   "execution_count": 15,
   "metadata": {},
   "outputs": [],
   "source": [
    "preprocess_X_pipeline = Pipeline([(\"cal_distance_extracter\", CalDistance()),\n",
    "                               (\"cal_time_extracter\", CalTime()),\n",
    "                               (\"cal_orientation_extracter\", CustomEncoder([2])),\n",
    "                               (\"custom_onehotencoder_extracter\", CustomOneHotEncoder([2,-1])),\n",
    "                               (\"cal_bed_extracter\", CalBed()), \n",
    "                               (\"custom_standard_scalerextracter\", CustomStandardScaler([0,1,2,3,6,7,8,9]))])"
   ]
  },
  {
   "cell_type": "markdown",
   "metadata": {},
   "source": [
    "Dữ liệu qua tiền xử lý là một vector 31 chiều"
   ]
  },
  {
   "cell_type": "code",
   "execution_count": 16,
   "metadata": {},
   "outputs": [
    {
     "data": {
      "text/plain": [
       "(1578, 32)"
      ]
     },
     "execution_count": 16,
     "metadata": {},
     "output_type": "execute_result"
    }
   ],
   "source": [
    "train_X = preprocess_X_pipeline.fit_transform(raw_train_X)\n",
    "val_X = preprocess_X_pipeline.transform(raw_val_X)\n",
    "train_X.shape"
   ]
  },
  {
   "cell_type": "code",
   "execution_count": 17,
   "metadata": {},
   "outputs": [
    {
     "name": "stdout",
     "output_type": "stream",
     "text": [
      "[ 3.50194995e+05  3.38053906e+05  5.22715660e+04  2.04119812e+05\n",
      " -8.18884362e+04 -3.59936296e+05  1.57584952e+05 -2.09376202e+05\n",
      "  2.12562365e+05  1.52128785e+04  2.91038305e-11 -2.19832657e+05\n",
      "  1.41818996e+04 -4.19606159e+05  2.71287709e+05 -1.26973347e+05\n",
      "  4.92036521e+05 -1.10939665e+04 -1.75299861e+04 -4.30794432e+04\n",
      " -3.55872423e+04 -1.59334410e+04  5.96863669e+04  5.37762298e+04\n",
      " -1.33248415e+03  1.45519152e-11 -2.67085269e+05 -1.13893020e+05\n",
      "  0.00000000e+00 -5.07717620e+05 -2.76929350e+05 -6.89712936e+05]\n",
      "1551127.0611835993\n"
     ]
    }
   ],
   "source": [
    "from sklearn.linear_model import LinearRegression \n",
    "regressor = LinearRegression()\n",
    "regressor.fit(train_X, train_y)\n",
    "\n",
    "# Xem giá trị của các tham số của mô hình\n",
    "print(regressor.coef_)\n",
    "print(regressor.intercept_)"
   ]
  },
  {
   "cell_type": "code",
   "execution_count": 18,
   "metadata": {},
   "outputs": [],
   "source": [
    "# Xây dựng các hàm độ đo r^2 trên tập huấn luyện\n",
    "def compute_mse(y, predictions):\n",
    "    return ((y - predictions) ** 2).mean()\n",
    "def compute_rr(y, predictions, baseline_prediction):\n",
    "    return 1 - compute_mse(y, predictions) / compute_mse(y, baseline_prediction)\n",
    "baseline_prediction = train_y.mean() "
   ]
  },
  {
   "cell_type": "code",
   "execution_count": 20,
   "metadata": {},
   "outputs": [
    {
     "name": "stdout",
     "output_type": "stream",
     "text": [
      "Prediction in Training Dataset\n",
      "R2 : 0.6998746462627885\n"
     ]
    },
    {
     "data": {
      "image/png": "[encoded data removed]",
      "text/plain": [
       "<Figure size 432x288 with 1 Axes>"
      ]
     },
     "metadata": {
      "needs_background": "light"
     },
     "output_type": "display_data"
    }
   ],
   "source": [
    "# dự đoán trên tập dữ liệu train bằng mô hình Linear Regression\n",
    "prediction_X = regressor.predict(train_X)\n",
    "print('Prediction in Training Dataset')\n",
    "print('R2 :', compute_rr(train_y, prediction_X, baseline_prediction))\n",
    "\n",
    "import matplotlib.pyplot as plt\n",
    "plt.scatter(train_y, prediction_X)\n",
    "plt.xlabel('True Values')\n",
    "plt.xlim((0,2000000))\n",
    "plt.ylabel('Predictions')\n",
    "plt.ylim((0,2000000))\n",
    "plt.show()"
   ]
  },
  {
   "cell_type": "code",
   "execution_count": 21,
   "metadata": {},
   "outputs": [
    {
     "name": "stdout",
     "output_type": "stream",
     "text": [
      "Prediction in Validation Dataset\n",
      "R2 : 0.41252776601232466\n",
      "RMSE : 3165244.443709036\n"
     ]
    },
    {
     "data": {
      "image/png": "[encoded data removed]",
      "text/plain": [
       "<Figure size 432x288 with 1 Axes>"
      ]
     },
     "metadata": {
      "needs_background": "light"
     },
     "output_type": "display_data"
    }
   ],
   "source": [
    "# dự đoán trên tập dữ liệu validation bằng mô hình Linear Regression\n",
    "prediction_X = regressor.predict(val_X)\n",
    "print('Prediction in Validation Dataset')\n",
    "print('R2 :', compute_rr(val_y, prediction_X, baseline_prediction))\n",
    "print('RMSE :', math.sqrt(compute_mse(val_y, prediction_X)))\n",
    "\n",
    "import matplotlib.pyplot as plt\n",
    "plt.scatter(val_y, prediction_X)\n",
    "plt.xlabel('True Values')\n",
    "plt.xlim((0,2000000))\n",
    "plt.ylabel('Predictions')\n",
    "plt.ylim((0,2000000))\n",
    "plt.show()"
   ]
  },
  {
   "cell_type": "code",
   "execution_count": 22,
   "metadata": {},
   "outputs": [],
   "source": [
    "from sklearn.neural_network import MLPRegressor"
   ]
  },
  {
   "cell_type": "code",
   "execution_count": 23,
   "metadata": {},
   "outputs": [
    {
     "name": "stdout",
     "output_type": "stream",
     "text": [
      "('logistic', 2) 0.12681723058833994 0.023271849839632264\n",
      "('logistic', 4) 0.1506210136904217 0.03259578245261585\n",
      "('logistic', 5) 0.22840955252229445 0.05966004222368593\n",
      "('logistic', 6) 0.32327331509654 0.10533199539862248\n",
      "('logistic', 7) 0.3869219447649518 0.10679650679495645\n",
      "('logistic', 8) 0.4777948361902532 0.13368483972655942\n",
      "('logistic', 13) 0.5837032351537623 0.17804920889084974\n",
      "('logistic', 33) 0.6741174597519567 0.21551240340425737\n",
      "('relu', 2) 0.877782692881217 0.4270974354669874\n",
      "('relu', 3) 0.9391182114614535 0.572927911031747\n",
      "('relu', 4) 0.9543604879545637 0.6335145029593684\n",
      "('relu', 10) 0.9755089201322147 0.7017709598596176\n",
      "('relu', 21) 0.9862096361591387 0.7437839378316602\n"
     ]
    },
    {
     "data": {
      "text/plain": [
       "('relu', 21)"
      ]
     },
     "execution_count": 23,
     "metadata": {},
     "output_type": "execute_result"
    }
   ],
   "source": [
    "# Thử với các hàm activation, số layer ẩn khác nhau (từ 2 đến 50)\n",
    "best_activation_layer = None\n",
    "best_val_err = -999999999\n",
    "for activation in [ 'logistic', 'tanh', 'relu' ]:\n",
    "    for i in range(2,50):\n",
    "        nnet = MLPRegressor(hidden_layer_sizes=(i), activation=activation, alpha = 0.5, \\\n",
    "                                            solver=\"lbfgs\", max_iter=1000, random_state=0)\n",
    "        nnet.fit(train_X, train_y)\n",
    "\n",
    "        prediction_X = nnet.predict(train_X)\n",
    "        rr_train = compute_rr(train_y, prediction_X, baseline_prediction)\n",
    "\n",
    "        prediction_X = nnet.predict(val_X)\n",
    "        rr_val = compute_rr(val_y, prediction_X, baseline_prediction)\n",
    "\n",
    "        if rr_val > best_val_err:\n",
    "            best_activation_layer = (activation,i)\n",
    "            best_val_err = rr_val\n",
    "            print(best_activation_layer,rr_train, best_val_err)\n",
    "\n",
    "best_activation_layer"
   ]
  },
  {
   "cell_type": "code",
   "execution_count": 24,
   "metadata": {},
   "outputs": [
    {
     "name": "stdout",
     "output_type": "stream",
     "text": [
      "('relu', 21)\n"
     ]
    }
   ],
   "source": [
    "# activation 'relu', 21 lớp ẩn là tham số tốt nhất tìm được\n",
    "print(best_activation_layer)"
   ]
  },
  {
   "cell_type": "markdown",
   "metadata": {},
   "source": [
    "# Thử thêm một lớp ẩn"
   ]
  },
  {
   "cell_type": "code",
   "execution_count": 25,
   "metadata": {},
   "outputs": [
    {
     "name": "stdout",
     "output_type": "stream",
     "text": [
      "1 0.0 0.0\n",
      "2 0.9876661937052543 0.5258801952205162\n",
      "4 0.983391115547601 0.6328429503192423\n",
      "5 0.9867524278218928 0.7230557808682335\n",
      "6 0.9933482619454981 0.7687809250500865\n",
      "19 0.9939530335482245 0.7963953380186903\n"
     ]
    }
   ],
   "source": [
    "# Thêm một lớp ẩn, lớp ẩn đầu tiên có 21 node, thử số node lớp ẩn tiếp theo từ 1->20\n",
    "best_model = None\n",
    "best_val_err = -999999999\n",
    "for i in range(1,20):\n",
    "    nnet = MLPRegressor(hidden_layer_sizes=(21, i), activation=activation, alpha = 0.5, \\\n",
    "                                            solver=\"lbfgs\", max_iter=1000, random_state=0)\n",
    "    nnet.fit(train_X, train_y)\n",
    "\n",
    "    prediction_X = nnet.predict(train_X)\n",
    "    rr_train = compute_rr(train_y, prediction_X, baseline_prediction)\n",
    "\n",
    "    prediction_X = nnet.predict(val_X)\n",
    "    rr_val = compute_rr(val_y, prediction_X, baseline_prediction)\n",
    "\n",
    "    if rr_val > best_val_err:\n",
    "        best_model = nnet\n",
    "        best_val_err = rr_val\n",
    "        print(i , rr_train, best_val_err)"
   ]
  },
  {
   "cell_type": "markdown",
   "metadata": {},
   "source": [
    "Kết quả thay đổi từ 0.74 -> 0.8, nên nhóm quyết định sẽ sử dụng mô hình 2 lớp ẩn (21,19). Ta thấy độ R2 trên tập train là 0.99, nhưng trên tập validation chỉ 0.74, mô hình đang bị overfit, thử train lại với các giá trị alpha khác nhau"
   ]
  },
  {
   "cell_type": "code",
   "execution_count": 26,
   "metadata": {},
   "outputs": [
    {
     "name": "stdout",
     "output_type": "stream",
     "text": [
      "0.1 0.9938438997486094 0.7152433627924127\n",
      "0.5 0.9939530335482245 0.7963953380186903\n",
      "1 0.9936967890702573 0.7963953380186903\n",
      "5 0.9944477893724494 0.7963953380186903\n",
      "10 0.9930778104136538 0.7963953380186903\n",
      "15 0.9936195320942426 0.7963953380186903\n",
      "20 0.9933608334124935 0.7963953380186903\n",
      "50 0.9932902089545578 0.7963953380186903\n",
      "100 0.9931012179708714 0.7963953380186903\n"
     ]
    }
   ],
   "source": [
    "best_model = None\n",
    "best_val_err = -999999999\n",
    "for alpha in [0.1, 0.5, 1, 5, 10, 15, 20, 50, 100]:\n",
    "    nnet = MLPRegressor(hidden_layer_sizes=(21,19), activation='relu', alpha = alpha, \\\n",
    "                                            solver=\"lbfgs\", max_iter=1000, random_state=0)\n",
    "    nnet.fit(train_X, train_y)\n",
    "\n",
    "    prediction_X = nnet.predict(train_X)\n",
    "    rr_train = compute_rr(train_y, prediction_X, baseline_prediction)\n",
    "\n",
    "    prediction_X = nnet.predict(val_X)\n",
    "    rr_val = compute_rr(val_y, prediction_X, baseline_prediction)\n",
    "\n",
    "    if rr_val > best_val_err:\n",
    "        best_model = nnet\n",
    "        best_val_err = rr_val\n",
    "    print(alpha, rr_train, best_val_err)\n",
    "    \n",
    "# => Giữ nguyên giá trị alpha = 0.5"
   ]
  },
  {
   "cell_type": "markdown",
   "metadata": {},
   "source": [
    "# Mô hình vẫn đang còn overfitting, thử early stopping"
   ]
  },
  {
   "cell_type": "code",
   "execution_count": 27,
   "metadata": {},
   "outputs": [
    {
     "name": "stdout",
     "output_type": "stream",
     "text": [
      "best_es_val_r2 = 64.32%\n"
     ]
    }
   ],
   "source": [
    "from copy import deepcopy\n",
    "nnet = MLPRegressor(hidden_layer_sizes=(21,19), activation=\"relu\",\n",
    "                     solver=\"lbfgs\", alpha=0.5, random_state=0, \n",
    "                     max_iter=1, warm_start=True)\n",
    "\n",
    "nnet.fit(train_X, train_y)\n",
    "max_iter = 1000\n",
    "best_es_nnet = None\n",
    "best_es_val_r2 = -float(\"inf\")\n",
    "val_r2s = []\n",
    "train_r2s = []\n",
    "\n",
    "for iteration in range(1, max_iter):\n",
    "    nnet.fit(train_X, train_y)\n",
    "    train_r2s.append(compute_rr(train_y, nnet.predict(train_X), baseline_prediction))\n",
    "    val_r2s.append(compute_rr(val_y, nnet.predict(val_X), baseline_prediction))\n",
    "    \n",
    "    if val_r2s[-1] > best_es_val_r2:\n",
    "        best_es_nnet = deepcopy(nnet)\n",
    "        best_es_val_r2 = val_r2s[-1]    \n",
    "    \n",
    "print(\"best_es_val_r2 = {:5.2f}%\".format(best_es_val_r2 * 100))\n",
    "\n",
    "# => val_r2 thấp"
   ]
  },
  {
   "cell_type": "code",
   "execution_count": 28,
   "metadata": {},
   "outputs": [
    {
     "data": {
      "image/png": "[encoded data removed]",
      "text/plain": [
       "<Figure size 432x288 with 1 Axes>"
      ]
     },
     "metadata": {
      "needs_background": "light"
     },
     "output_type": "display_data"
    }
   ],
   "source": [
    "# Trực quan hóa quá trình huấn luyện với early stopping\n",
    "plt.plot(train_r2s, \"b\", label=\"train_err\")\n",
    "plt.plot(val_r2s, \"g\", label=\"val_err\")\n",
    "plt.legend()\n",
    "plt.xlim(0, len(train_r2s)-1)\n",
    "min_y, max_y = plt.ylim()\n",
    "plt.ylim(min_y, max_y)\n",
    "plt.xlabel(\"num epochs\")\n",
    "plt.ylabel(\"error (%)\")\n",
    "best_iter = np.argmin(val_r2s)\n",
    "plt.plot([best_iter, best_iter], [min_y, max_y], \"r\")\n",
    "plt.text(best_iter + 1, max_y - 1, 'STOP', color=\"r\");"
   ]
  },
  {
   "cell_type": "markdown",
   "metadata": {},
   "source": [
    "# Quyết định chọn model MLP với hidden_layer_sizes=(21,19), activation='relu', alpha = 0.5, solver=\"lbfgs\", max_iter=1000, random_state=0)"
   ]
  },
  {
   "cell_type": "code",
   "execution_count": 29,
   "metadata": {},
   "outputs": [
    {
     "name": "stdout",
     "output_type": "stream",
     "text": [
      "Prediction in Train Dataset\n",
      "R2 : 0.9939530335482245\n",
      "RMSE : 62803.18621299797\n",
      "Prediction in Validation Dataset\n",
      "R2 : 0.7963953380186903\n",
      "RMSE : 1863405.7937998062\n"
     ]
    },
    {
     "data": {
      "image/png": "[encoded data removed]",
      "text/plain": [
       "<Figure size 432x288 with 1 Axes>"
      ]
     },
     "metadata": {
      "needs_background": "light"
     },
     "output_type": "display_data"
    }
   ],
   "source": [
    "model = best_model\n",
    "\n",
    "#model = regressor\n",
    "\n",
    "model.fit(train_X,train_y)\n",
    "\n",
    "# dự đoán trên tập dữ liệu train bằng mô hình Neural Net\n",
    "prediction_X = model.predict(train_X)\n",
    "print('Prediction in Train Dataset')\n",
    "print('R2 :', compute_rr(train_y, prediction_X, baseline_prediction))\n",
    "print('RMSE :', math.sqrt(compute_mse(train_y, prediction_X)))\n",
    "\n",
    "# dự đoán trên tập dữ liệu validation bằng mô hình Neural Net\n",
    "prediction_X = model.predict(val_X)\n",
    "print('Prediction in Validation Dataset')\n",
    "print('R2 :', compute_rr(val_y, prediction_X, baseline_prediction))\n",
    "print('RMSE :', math.sqrt(compute_mse(val_y, prediction_X)))\n",
    "\n",
    "import matplotlib.pyplot as plt\n",
    "plt.scatter(val_y, prediction_X)\n",
    "plt.xlim((0,2000000))\n",
    "plt.ylim((0,2000000))\n",
    "plt.xlabel('True Values')\n",
    "plt.ylabel('Predictions')\n",
    "plt.show()"
   ]
  },
  {
   "cell_type": "code",
   "execution_count": 30,
   "metadata": {},
   "outputs": [
    {
     "name": "stdout",
     "output_type": "stream",
     "text": [
      "Prediction in Test Dataset\n",
      "R2 : 0.7645783337145686\n",
      "RMSE : 350105.3048920498\n"
     ]
    },
    {
     "data": {
      "image/png": "[encoded data removed]",
      "text/plain": [
       "<Figure size 432x288 with 1 Axes>"
      ]
     },
     "metadata": {
      "needs_background": "light"
     },
     "output_type": "display_data"
    }
   ],
   "source": [
    "# dự đoán trên tập dữ liệu test bằng mô hình Neural Net\n",
    "test_X = preprocess_X_pipeline.transform(raw_test_X)\n",
    "prediction_X = model.predict(test_X)\n",
    "\n",
    "print('Prediction in Test Dataset')\n",
    "print('R2 :', compute_rr(test_y, prediction_X, baseline_prediction))\n",
    "print('RMSE :', math.sqrt(compute_mse(test_y, prediction_X)))\n",
    "\n",
    "import matplotlib.pyplot as plt\n",
    "plt.scatter(test_y, prediction_X)\n",
    "plt.xlim((0,2000000))\n",
    "plt.ylim((0,2000000))\n",
    "plt.xlabel('True Values')\n",
    "plt.ylabel('Predictions')\n",
    "plt.show()"
   ]
  },
  {
   "cell_type": "code",
   "execution_count": null,
   "metadata": {},
   "outputs": [],
   "source": []
  },
  {
   "cell_type": "code",
   "execution_count": null,
   "metadata": {},
   "outputs": [],
   "source": []
  }
 ],
 "metadata": {
  "kernelspec": {
   "display_name": "Python 3",
   "language": "python",
   "name": "python3"
  },
  "language_info": {
   "codemirror_mode": {
    "name": "ipython",
    "version": 3
   },
   "file_extension": ".py",
   "mimetype": "text/x-python",
   "name": "python",
   "nbconvert_exporter": "python",
   "pygments_lexer": "ipython3",
   "version": "3.7.1"
  }
 },
 "nbformat": 4,
 "nbformat_minor": 2
}
