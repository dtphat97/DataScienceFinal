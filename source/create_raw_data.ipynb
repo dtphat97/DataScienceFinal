{
 "cells": [
  {
   "cell_type": "code",
   "execution_count": 8,
   "metadata": {},
   "outputs": [],
   "source": [
    "import pandas as pd\n",
    "from sklearn.model_selection import train_test_split"
   ]
  },
  {
   "cell_type": "code",
   "execution_count": 9,
   "metadata": {},
   "outputs": [],
   "source": [
    "data_room_files = [ '25-11-2018.csv', '06-01-2019.csv', '07-01-2019.csv' ]\n",
    "data_hotel_file = 'list_hotel.csv'"
   ]
  },
  {
   "cell_type": "code",
   "execution_count": 10,
   "metadata": {},
   "outputs": [
    {
     "data": {
      "text/plain": [
       "(5287, 18)"
      ]
     },
     "execution_count": 10,
     "metadata": {},
     "output_type": "execute_result"
    }
   ],
   "source": [
    "# merge dữ liệu\n",
    "\n",
    "# nối dữ liệu từ nhiều tập tin data_room lại\n",
    "data_room = pd.read_csv(data_room_files[0])\n",
    "data_room.insert(loc=0,column='order_day',value=data_room_files[0].replace('.csv',''))\n",
    "for i in range(1,len(data_room_files)):\n",
    "    tmp = pd.read_csv(data_room_files[i])\n",
    "    tmp.insert(loc=0,column='order_day',value=data_room_files[i].replace('.csv',''))\n",
    "    data_room = data_room.append(tmp)\n",
    "\n",
    "# đọc dữ liệu data_hotel\n",
    "data_hotel = pd.read_csv(data_hotel_file)\n",
    "\n",
    "# merge\n",
    "raw_data = pd.merge(data_hotel, data_room, on='id', how='inner')\n",
    "raw_data.shape"
   ]
  },
  {
   "cell_type": "code",
   "execution_count": 11,
   "metadata": {},
   "outputs": [
    {
     "name": "stdout",
     "output_type": "stream",
     "text": [
      "(5287, 13)\n",
      "<class 'pandas.core.frame.DataFrame'>\n",
      "Int64Index: 5287 entries, 0 to 5286\n",
      "Data columns (total 13 columns):\n",
      "star                5287 non-null int64\n",
      "lat                 5287 non-null float64\n",
      "long                5287 non-null float64\n",
      "order_day           5287 non-null object\n",
      "checkin_day         5287 non-null object\n",
      "size                5287 non-null int64\n",
      "orientation         5287 non-null object\n",
      "bed                 5287 non-null object\n",
      "attribute_number    5287 non-null int64\n",
      "max_guest_number    5287 non-null int64\n",
      "have_breakfast      5287 non-null int64\n",
      "cancel_ticket       5287 non-null int64\n",
      "price               5287 non-null int64\n",
      "dtypes: float64(2), int64(7), object(4)\n",
      "memory usage: 578.3+ KB\n"
     ]
    }
   ],
   "source": [
    "# thêm, xóa một số features\n",
    "raw_data = raw_data.drop(columns=['id', 'name', 'url', 'rating', 'rate_number'])\n",
    "\n",
    "# điền giá trị thiếu\n",
    "values = {'orientation': 'Không cửa sổ', 'bed': 'Không giường'}\n",
    "raw_data = raw_data.fillna(value=values)\n",
    "\n",
    "print(raw_data.shape)\n",
    "raw_data.info()"
   ]
  },
  {
   "cell_type": "code",
   "execution_count": 12,
   "metadata": {},
   "outputs": [],
   "source": [
    "# lưu csv\n",
    "raw_data.to_csv('raw_data.csv',index=False)"
   ]
  },
  {
   "cell_type": "code",
   "execution_count": 14,
   "metadata": {},
   "outputs": [
    {
     "name": "stdout",
     "output_type": "stream",
     "text": [
      "(5287, 12)\n",
      "(5287,)\n"
     ]
    }
   ],
   "source": []
  },
  {
   "cell_type": "code",
   "execution_count": null,
   "metadata": {},
   "outputs": [],
   "source": []
  }
 ],
 "metadata": {
  "kernelspec": {
   "display_name": "Python 3",
   "language": "python",
   "name": "python3"
  },
  "language_info": {
   "codemirror_mode": {
    "name": "ipython",
    "version": 3
   },
   "file_extension": ".py",
   "mimetype": "text/x-python",
   "name": "python",
   "nbconvert_exporter": "python",
   "pygments_lexer": "ipython3",
   "version": "3.7.1"
  }
 },
 "nbformat": 4,
 "nbformat_minor": 2
}
