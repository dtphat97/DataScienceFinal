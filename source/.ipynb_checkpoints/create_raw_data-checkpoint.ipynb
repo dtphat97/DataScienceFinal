{
 "cells": [
  {
   "cell_type": "code",
   "execution_count": 1,
   "metadata": {},
   "outputs": [],
   "source": [
    "import pandas as pd\n",
    "from sklearn.model_selection import train_test_split\n",
    "import numpy as np"
   ]
  },
  {
   "cell_type": "code",
   "execution_count": 2,
   "metadata": {},
   "outputs": [],
   "source": [
    "data_room_files = [ '11-01-2019.csv' ]\n",
    "data_hotel_file = 'list_hotel.csv'"
   ]
  },
  {
   "cell_type": "code",
   "execution_count": 3,
   "metadata": {},
   "outputs": [
    {
     "data": {
      "text/plain": [
       "(2396, 18)"
      ]
     },
     "execution_count": 3,
     "metadata": {},
     "output_type": "execute_result"
    }
   ],
   "source": [
    "# merge dữ liệu\n",
    "\n",
    "# nối dữ liệu từ nhiều tập tin data_room lại\n",
    "data_room = pd.read_csv(data_room_files[0])\n",
    "data_room.insert(loc=0,column='order_day',value=data_room_files[0].replace('.csv',''))\n",
    "for i in range(1,len(data_room_files)):\n",
    "    tmp = pd.read_csv(data_room_files[i])\n",
    "    tmp.insert(loc=0,column='order_day',value=data_room_files[i].replace('.csv',''))\n",
    "    data_room = data_room.append(tmp)\n",
    "\n",
    "# đọc dữ liệu data_hotel\n",
    "data_hotel = pd.read_csv(data_hotel_file)\n",
    "\n",
    "# merge\n",
    "raw_data = pd.merge(data_hotel, data_room, on='id', how='inner')\n",
    "raw_data.shape"
   ]
  },
  {
   "cell_type": "code",
   "execution_count": 4,
   "metadata": {},
   "outputs": [
    {
     "name": "stdout",
     "output_type": "stream",
     "text": [
      "(2396, 14)\n",
      "<class 'pandas.core.frame.DataFrame'>\n",
      "Int64Index: 2396 entries, 0 to 2395\n",
      "Data columns (total 14 columns):\n",
      "id                  2396 non-null int64\n",
      "star                2396 non-null int64\n",
      "lat                 2396 non-null float64\n",
      "long                2396 non-null float64\n",
      "order_day           2396 non-null object\n",
      "checkin_day         2396 non-null object\n",
      "size                2396 non-null int64\n",
      "orientation         2396 non-null object\n",
      "bed                 2396 non-null object\n",
      "attribute_number    2396 non-null int64\n",
      "max_guest_number    2396 non-null int64\n",
      "have_breakfast      2396 non-null int64\n",
      "cancel_ticket       2396 non-null int64\n",
      "price               2396 non-null int64\n",
      "dtypes: float64(2), int64(8), object(4)\n",
      "memory usage: 280.8+ KB\n"
     ]
    }
   ],
   "source": [
    "# thêm, xóa một số features\n",
    "raw_data = raw_data.drop(columns=[ 'name', 'url', 'rating', 'rate_number'])\n",
    "\n",
    "# điền giá trị thiếu\n",
    "values = {'orientation': 'Không cửa sổ', 'bed': 'Không giường'}\n",
    "raw_data = raw_data.fillna(value=values)\n",
    "\n",
    "print(raw_data.shape)\n",
    "raw_data.info()"
   ]
  },
  {
   "cell_type": "code",
   "execution_count": 5,
   "metadata": {},
   "outputs": [],
   "source": [
    "hotel_train_data = []\n",
    "hotel_val_data = []\n",
    "hotel_test_data = []\n",
    "np.random.seed(0)\n",
    "for i in range(1,6):\n",
    "    tmp_data_hotel = data_hotel[data_hotel['star'] == i]    \n",
    "\n",
    "    msk = np.random.rand(len(tmp_data_hotel)) < 0.8\n",
    "    train_and_val = []\n",
    "    for j in range(0,len(msk)):\n",
    "        if msk[j] == True:\n",
    "            train_and_val.append(tmp_data_hotel.iloc[j]['id'])\n",
    "        else:\n",
    "            hotel_test_data.append(tmp_data_hotel.iloc[j]['id'])\n",
    "    \n",
    "    msk = np.random.rand(len(train_and_val)) < 0.8\n",
    "    for j in range(0,len(msk)):\n",
    "        if msk[j] == True:\n",
    "            hotel_train_data.append(train_and_val[j])\n",
    "        else:\n",
    "            hotel_val_data.append(train_and_val[j])"
   ]
  },
  {
   "cell_type": "code",
   "execution_count": 6,
   "metadata": {},
   "outputs": [
    {
     "name": "stdout",
     "output_type": "stream",
     "text": [
      "(1578, 13)\n",
      "(487, 13)\n",
      "(331, 13)\n"
     ]
    }
   ],
   "source": [
    "raw_train_data = raw_data[raw_data.id.isin(hotel_train_data)]\n",
    "raw_val_data = raw_data[raw_data.id.isin(hotel_val_data)]\n",
    "raw_test_data = raw_data[raw_data.id.isin(hotel_test_data)]\n",
    "\n",
    "raw_train_data = raw_train_data.drop(columns=['id'])\n",
    "raw_val_data = raw_val_data.drop(columns=['id'])\n",
    "raw_test_data = raw_test_data.drop(columns=['id'])\n",
    "\n",
    "print(raw_train_data.shape)\n",
    "print(raw_val_data.shape)\n",
    "print(raw_test_data.shape)"
   ]
  },
  {
   "cell_type": "code",
   "execution_count": 7,
   "metadata": {},
   "outputs": [],
   "source": [
    "# lưu csv\n",
    "#raw_data.to_csv('raw_data.csv',index=False)\n",
    "\n",
    "raw_train_data.to_csv('raw_data_train.csv',index=False)\n",
    "raw_val_data.to_csv('raw_data_val.csv',index=False)\n",
    "raw_test_data.to_csv('raw_data_test.csv',index=False)"
   ]
  }
 ],
 "metadata": {
  "kernelspec": {
   "display_name": "Python 3",
   "language": "python",
   "name": "python3"
  },
  "language_info": {
   "codemirror_mode": {
    "name": "ipython",
    "version": 3
   },
   "file_extension": ".py",
   "mimetype": "text/x-python",
   "name": "python",
   "nbconvert_exporter": "python",
   "pygments_lexer": "ipython3",
   "version": "3.7.1"
  }
 },
 "nbformat": 4,
 "nbformat_minor": 2
}
